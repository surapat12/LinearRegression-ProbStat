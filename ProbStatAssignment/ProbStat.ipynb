{
  "nbformat": 4,
  "nbformat_minor": 0,
  "metadata": {
    "colab": {
      "provenance": [],
      "collapsed_sections": []
    },
    "kernelspec": {
      "name": "python3",
      "display_name": "Python 3"
    },
    "language_info": {
      "name": "python"
    }
  },
  "cells": [
    {
      "cell_type": "code",
      "source": [
        "pip install stemgraphic"
      ],
      "metadata": {
        "colab": {
          "base_uri": "https://localhost:8080/"
        },
        "id": "G32oPTnmlzrP",
        "outputId": "9cc43f2c-e345-4b0e-fceb-490a096dff86"
      },
      "execution_count": null,
      "outputs": [
        {
          "output_type": "stream",
          "name": "stdout",
          "text": [
            "Collecting stemgraphic\n",
            "  Downloading stemgraphic-0.9.1-py3-none-any.whl (61 kB)\n",
            "\u001b[?25l\r\u001b[K     |█████▎                          | 10 kB 32.2 MB/s eta 0:00:01\r\u001b[K     |██████████▋                     | 20 kB 9.9 MB/s eta 0:00:01\r\u001b[K     |███████████████▉                | 30 kB 8.3 MB/s eta 0:00:01\r\u001b[K     |█████████████████████▏          | 40 kB 3.7 MB/s eta 0:00:01\r\u001b[K     |██████████████████████████▌     | 51 kB 4.2 MB/s eta 0:00:01\r\u001b[K     |███████████████████████████████▊| 61 kB 4.4 MB/s eta 0:00:01\r\u001b[K     |████████████████████████████████| 61 kB 506 kB/s \n",
            "\u001b[?25hRequirement already satisfied: seaborn in /usr/local/lib/python3.7/dist-packages (from stemgraphic) (0.11.2)\n",
            "Requirement already satisfied: docopt in /usr/local/lib/python3.7/dist-packages (from stemgraphic) (0.6.2)\n",
            "Requirement already satisfied: matplotlib in /usr/local/lib/python3.7/dist-packages (from stemgraphic) (3.2.2)\n",
            "Requirement already satisfied: pandas in /usr/local/lib/python3.7/dist-packages (from stemgraphic) (1.3.5)\n",
            "Requirement already satisfied: pyparsing!=2.0.4,!=2.1.2,!=2.1.6,>=2.0.1 in /usr/local/lib/python3.7/dist-packages (from matplotlib->stemgraphic) (3.0.8)\n",
            "Requirement already satisfied: numpy>=1.11 in /usr/local/lib/python3.7/dist-packages (from matplotlib->stemgraphic) (1.21.6)\n",
            "Requirement already satisfied: cycler>=0.10 in /usr/local/lib/python3.7/dist-packages (from matplotlib->stemgraphic) (0.11.0)\n",
            "Requirement already satisfied: python-dateutil>=2.1 in /usr/local/lib/python3.7/dist-packages (from matplotlib->stemgraphic) (2.8.2)\n",
            "Requirement already satisfied: kiwisolver>=1.0.1 in /usr/local/lib/python3.7/dist-packages (from matplotlib->stemgraphic) (1.4.2)\n",
            "Requirement already satisfied: typing-extensions in /usr/local/lib/python3.7/dist-packages (from kiwisolver>=1.0.1->matplotlib->stemgraphic) (4.2.0)\n",
            "Requirement already satisfied: six>=1.5 in /usr/local/lib/python3.7/dist-packages (from python-dateutil>=2.1->matplotlib->stemgraphic) (1.15.0)\n",
            "Requirement already satisfied: pytz>=2017.3 in /usr/local/lib/python3.7/dist-packages (from pandas->stemgraphic) (2022.1)\n",
            "Requirement already satisfied: scipy>=1.0 in /usr/local/lib/python3.7/dist-packages (from seaborn->stemgraphic) (1.4.1)\n",
            "Installing collected packages: stemgraphic\n",
            "Successfully installed stemgraphic-0.9.1\n"
          ]
        }
      ]
    },
    {
      "cell_type": "code",
      "execution_count": null,
      "metadata": {
        "id": "OmhCih0VcV5x"
      },
      "outputs": [],
      "source": [
        "import pandas as pd\n",
        "import statistics as st\n",
        "import seaborn as sns\n",
        "import matplotlib.pyplot as plt\n",
        "import stemgraphic"
      ]
    },
    {
      "cell_type": "code",
      "source": [
        "data = pd.read_csv(\"coffee_quality.csv\")\n",
        "data"
      ],
      "metadata": {
        "colab": {
          "base_uri": "https://localhost:8080/",
          "height": 423
        },
        "id": "DHyWbwbIfFFF",
        "outputId": "c6715bef-7b7a-4a07-8f58-9cabc617ff49"
      },
      "execution_count": null,
      "outputs": [
        {
          "output_type": "execute_result",
          "data": {
            "text/plain": [
              "      quality_score  Aroma  Flavor  Aftertaste  Acidity  Body  Balance  \\\n",
              "0             90.58   8.67    8.83        8.67     8.75  8.50     8.42   \n",
              "1             89.92   8.75    8.67        8.50     8.58  8.42     8.42   \n",
              "2             89.75   8.42    8.50        8.42     8.42  8.33     8.42   \n",
              "3             89.00   8.17    8.58        8.42     8.42  8.50     8.25   \n",
              "4             88.83   8.25    8.50        8.25     8.50  8.42     8.33   \n",
              "...             ...    ...     ...         ...      ...   ...      ...   \n",
              "1307          67.92   6.75    6.58        6.42     6.67  7.08     6.67   \n",
              "1308          63.08   7.25    6.58        6.33     6.25  6.42     6.08   \n",
              "1309          59.83   7.50    6.67        6.67     7.67  7.33     6.67   \n",
              "1310          43.13   6.00    6.00        6.25     6.88  6.00     6.00   \n",
              "1311           0.00   0.00    0.00        0.00     0.00  0.00     0.00   \n",
              "\n",
              "      Uniformity  Clean Cup  Sweetness  Moisture  Category Two Defects  \n",
              "0          10.00      10.00      10.00      0.12                     0  \n",
              "1          10.00      10.00      10.00      0.12                     1  \n",
              "2          10.00      10.00      10.00      0.00                     0  \n",
              "3          10.00      10.00      10.00      0.11                     2  \n",
              "4          10.00      10.00      10.00      0.12                     2  \n",
              "...          ...        ...        ...       ...                   ...  \n",
              "1307        9.33       6.00       6.00      0.14                    16  \n",
              "1308        6.00       6.00       6.00      0.13                     5  \n",
              "1309        8.00       1.33       1.33      0.10                     4  \n",
              "1310        0.00       0.00       0.00      0.00                     0  \n",
              "1311        0.00       0.00       0.00      0.12                     2  \n",
              "\n",
              "[1312 rows x 12 columns]"
            ],
            "text/html": [
              "\n",
              "  <div id=\"df-77838107-5f7a-4cc8-94c4-8e997d3dde74\">\n",
              "    <div class=\"colab-df-container\">\n",
              "      <div>\n",
              "<style scoped>\n",
              "    .dataframe tbody tr th:only-of-type {\n",
              "        vertical-align: middle;\n",
              "    }\n",
              "\n",
              "    .dataframe tbody tr th {\n",
              "        vertical-align: top;\n",
              "    }\n",
              "\n",
              "    .dataframe thead th {\n",
              "        text-align: right;\n",
              "    }\n",
              "</style>\n",
              "<table border=\"1\" class=\"dataframe\">\n",
              "  <thead>\n",
              "    <tr style=\"text-align: right;\">\n",
              "      <th></th>\n",
              "      <th>quality_score</th>\n",
              "      <th>Aroma</th>\n",
              "      <th>Flavor</th>\n",
              "      <th>Aftertaste</th>\n",
              "      <th>Acidity</th>\n",
              "      <th>Body</th>\n",
              "      <th>Balance</th>\n",
              "      <th>Uniformity</th>\n",
              "      <th>Clean Cup</th>\n",
              "      <th>Sweetness</th>\n",
              "      <th>Moisture</th>\n",
              "      <th>Category Two Defects</th>\n",
              "    </tr>\n",
              "  </thead>\n",
              "  <tbody>\n",
              "    <tr>\n",
              "      <th>0</th>\n",
              "      <td>90.58</td>\n",
              "      <td>8.67</td>\n",
              "      <td>8.83</td>\n",
              "      <td>8.67</td>\n",
              "      <td>8.75</td>\n",
              "      <td>8.50</td>\n",
              "      <td>8.42</td>\n",
              "      <td>10.00</td>\n",
              "      <td>10.00</td>\n",
              "      <td>10.00</td>\n",
              "      <td>0.12</td>\n",
              "      <td>0</td>\n",
              "    </tr>\n",
              "    <tr>\n",
              "      <th>1</th>\n",
              "      <td>89.92</td>\n",
              "      <td>8.75</td>\n",
              "      <td>8.67</td>\n",
              "      <td>8.50</td>\n",
              "      <td>8.58</td>\n",
              "      <td>8.42</td>\n",
              "      <td>8.42</td>\n",
              "      <td>10.00</td>\n",
              "      <td>10.00</td>\n",
              "      <td>10.00</td>\n",
              "      <td>0.12</td>\n",
              "      <td>1</td>\n",
              "    </tr>\n",
              "    <tr>\n",
              "      <th>2</th>\n",
              "      <td>89.75</td>\n",
              "      <td>8.42</td>\n",
              "      <td>8.50</td>\n",
              "      <td>8.42</td>\n",
              "      <td>8.42</td>\n",
              "      <td>8.33</td>\n",
              "      <td>8.42</td>\n",
              "      <td>10.00</td>\n",
              "      <td>10.00</td>\n",
              "      <td>10.00</td>\n",
              "      <td>0.00</td>\n",
              "      <td>0</td>\n",
              "    </tr>\n",
              "    <tr>\n",
              "      <th>3</th>\n",
              "      <td>89.00</td>\n",
              "      <td>8.17</td>\n",
              "      <td>8.58</td>\n",
              "      <td>8.42</td>\n",
              "      <td>8.42</td>\n",
              "      <td>8.50</td>\n",
              "      <td>8.25</td>\n",
              "      <td>10.00</td>\n",
              "      <td>10.00</td>\n",
              "      <td>10.00</td>\n",
              "      <td>0.11</td>\n",
              "      <td>2</td>\n",
              "    </tr>\n",
              "    <tr>\n",
              "      <th>4</th>\n",
              "      <td>88.83</td>\n",
              "      <td>8.25</td>\n",
              "      <td>8.50</td>\n",
              "      <td>8.25</td>\n",
              "      <td>8.50</td>\n",
              "      <td>8.42</td>\n",
              "      <td>8.33</td>\n",
              "      <td>10.00</td>\n",
              "      <td>10.00</td>\n",
              "      <td>10.00</td>\n",
              "      <td>0.12</td>\n",
              "      <td>2</td>\n",
              "    </tr>\n",
              "    <tr>\n",
              "      <th>...</th>\n",
              "      <td>...</td>\n",
              "      <td>...</td>\n",
              "      <td>...</td>\n",
              "      <td>...</td>\n",
              "      <td>...</td>\n",
              "      <td>...</td>\n",
              "      <td>...</td>\n",
              "      <td>...</td>\n",
              "      <td>...</td>\n",
              "      <td>...</td>\n",
              "      <td>...</td>\n",
              "      <td>...</td>\n",
              "    </tr>\n",
              "    <tr>\n",
              "      <th>1307</th>\n",
              "      <td>67.92</td>\n",
              "      <td>6.75</td>\n",
              "      <td>6.58</td>\n",
              "      <td>6.42</td>\n",
              "      <td>6.67</td>\n",
              "      <td>7.08</td>\n",
              "      <td>6.67</td>\n",
              "      <td>9.33</td>\n",
              "      <td>6.00</td>\n",
              "      <td>6.00</td>\n",
              "      <td>0.14</td>\n",
              "      <td>16</td>\n",
              "    </tr>\n",
              "    <tr>\n",
              "      <th>1308</th>\n",
              "      <td>63.08</td>\n",
              "      <td>7.25</td>\n",
              "      <td>6.58</td>\n",
              "      <td>6.33</td>\n",
              "      <td>6.25</td>\n",
              "      <td>6.42</td>\n",
              "      <td>6.08</td>\n",
              "      <td>6.00</td>\n",
              "      <td>6.00</td>\n",
              "      <td>6.00</td>\n",
              "      <td>0.13</td>\n",
              "      <td>5</td>\n",
              "    </tr>\n",
              "    <tr>\n",
              "      <th>1309</th>\n",
              "      <td>59.83</td>\n",
              "      <td>7.50</td>\n",
              "      <td>6.67</td>\n",
              "      <td>6.67</td>\n",
              "      <td>7.67</td>\n",
              "      <td>7.33</td>\n",
              "      <td>6.67</td>\n",
              "      <td>8.00</td>\n",
              "      <td>1.33</td>\n",
              "      <td>1.33</td>\n",
              "      <td>0.10</td>\n",
              "      <td>4</td>\n",
              "    </tr>\n",
              "    <tr>\n",
              "      <th>1310</th>\n",
              "      <td>43.13</td>\n",
              "      <td>6.00</td>\n",
              "      <td>6.00</td>\n",
              "      <td>6.25</td>\n",
              "      <td>6.88</td>\n",
              "      <td>6.00</td>\n",
              "      <td>6.00</td>\n",
              "      <td>0.00</td>\n",
              "      <td>0.00</td>\n",
              "      <td>0.00</td>\n",
              "      <td>0.00</td>\n",
              "      <td>0</td>\n",
              "    </tr>\n",
              "    <tr>\n",
              "      <th>1311</th>\n",
              "      <td>0.00</td>\n",
              "      <td>0.00</td>\n",
              "      <td>0.00</td>\n",
              "      <td>0.00</td>\n",
              "      <td>0.00</td>\n",
              "      <td>0.00</td>\n",
              "      <td>0.00</td>\n",
              "      <td>0.00</td>\n",
              "      <td>0.00</td>\n",
              "      <td>0.00</td>\n",
              "      <td>0.12</td>\n",
              "      <td>2</td>\n",
              "    </tr>\n",
              "  </tbody>\n",
              "</table>\n",
              "<p>1312 rows × 12 columns</p>\n",
              "</div>\n",
              "      <button class=\"colab-df-convert\" onclick=\"convertToInteractive('df-77838107-5f7a-4cc8-94c4-8e997d3dde74')\"\n",
              "              title=\"Convert this dataframe to an interactive table.\"\n",
              "              style=\"display:none;\">\n",
              "        \n",
              "  <svg xmlns=\"http://www.w3.org/2000/svg\" height=\"24px\"viewBox=\"0 0 24 24\"\n",
              "       width=\"24px\">\n",
              "    <path d=\"M0 0h24v24H0V0z\" fill=\"none\"/>\n",
              "    <path d=\"M18.56 5.44l.94 2.06.94-2.06 2.06-.94-2.06-.94-.94-2.06-.94 2.06-2.06.94zm-11 1L8.5 8.5l.94-2.06 2.06-.94-2.06-.94L8.5 2.5l-.94 2.06-2.06.94zm10 10l.94 2.06.94-2.06 2.06-.94-2.06-.94-.94-2.06-.94 2.06-2.06.94z\"/><path d=\"M17.41 7.96l-1.37-1.37c-.4-.4-.92-.59-1.43-.59-.52 0-1.04.2-1.43.59L10.3 9.45l-7.72 7.72c-.78.78-.78 2.05 0 2.83L4 21.41c.39.39.9.59 1.41.59.51 0 1.02-.2 1.41-.59l7.78-7.78 2.81-2.81c.8-.78.8-2.07 0-2.86zM5.41 20L4 18.59l7.72-7.72 1.47 1.35L5.41 20z\"/>\n",
              "  </svg>\n",
              "      </button>\n",
              "      \n",
              "  <style>\n",
              "    .colab-df-container {\n",
              "      display:flex;\n",
              "      flex-wrap:wrap;\n",
              "      gap: 12px;\n",
              "    }\n",
              "\n",
              "    .colab-df-convert {\n",
              "      background-color: #E8F0FE;\n",
              "      border: none;\n",
              "      border-radius: 50%;\n",
              "      cursor: pointer;\n",
              "      display: none;\n",
              "      fill: #1967D2;\n",
              "      height: 32px;\n",
              "      padding: 0 0 0 0;\n",
              "      width: 32px;\n",
              "    }\n",
              "\n",
              "    .colab-df-convert:hover {\n",
              "      background-color: #E2EBFA;\n",
              "      box-shadow: 0px 1px 2px rgba(60, 64, 67, 0.3), 0px 1px 3px 1px rgba(60, 64, 67, 0.15);\n",
              "      fill: #174EA6;\n",
              "    }\n",
              "\n",
              "    [theme=dark] .colab-df-convert {\n",
              "      background-color: #3B4455;\n",
              "      fill: #D2E3FC;\n",
              "    }\n",
              "\n",
              "    [theme=dark] .colab-df-convert:hover {\n",
              "      background-color: #434B5C;\n",
              "      box-shadow: 0px 1px 3px 1px rgba(0, 0, 0, 0.15);\n",
              "      filter: drop-shadow(0px 1px 2px rgba(0, 0, 0, 0.3));\n",
              "      fill: #FFFFFF;\n",
              "    }\n",
              "  </style>\n",
              "\n",
              "      <script>\n",
              "        const buttonEl =\n",
              "          document.querySelector('#df-77838107-5f7a-4cc8-94c4-8e997d3dde74 button.colab-df-convert');\n",
              "        buttonEl.style.display =\n",
              "          google.colab.kernel.accessAllowed ? 'block' : 'none';\n",
              "\n",
              "        async function convertToInteractive(key) {\n",
              "          const element = document.querySelector('#df-77838107-5f7a-4cc8-94c4-8e997d3dde74');\n",
              "          const dataTable =\n",
              "            await google.colab.kernel.invokeFunction('convertToInteractive',\n",
              "                                                     [key], {});\n",
              "          if (!dataTable) return;\n",
              "\n",
              "          const docLinkHtml = 'Like what you see? Visit the ' +\n",
              "            '<a target=\"_blank\" href=https://colab.research.google.com/notebooks/data_table.ipynb>data table notebook</a>'\n",
              "            + ' to learn more about interactive tables.';\n",
              "          element.innerHTML = '';\n",
              "          dataTable['output_type'] = 'display_data';\n",
              "          await google.colab.output.renderOutput(dataTable, element);\n",
              "          const docLink = document.createElement('div');\n",
              "          docLink.innerHTML = docLinkHtml;\n",
              "          element.appendChild(docLink);\n",
              "        }\n",
              "      </script>\n",
              "    </div>\n",
              "  </div>\n",
              "  "
            ]
          },
          "metadata": {},
          "execution_count": 3
        }
      ]
    },
    {
      "cell_type": "code",
      "source": [
        "#mode\n",
        "modeAroma = st.mode(data[\"Aroma\"])\n",
        "modeFlavor = st.mode(data[\"Flavor\"])\n",
        "\n",
        "print(\"Mode Aroma = {:.5f} \".format(modeAroma))\n",
        "print(\"Mode Flavor = {:.5f} \".format(modeFlavor))"
      ],
      "metadata": {
        "colab": {
          "base_uri": "https://localhost:8080/"
        },
        "id": "rBirBJIvfQZt",
        "outputId": "6312089b-1ad5-4472-93b9-e02f62a46875"
      },
      "execution_count": null,
      "outputs": [
        {
          "output_type": "stream",
          "name": "stdout",
          "text": [
            "Mode Aroma = 7.67000 \n",
            "Mode Flavor = 7.50000 \n"
          ]
        }
      ]
    },
    {
      "cell_type": "code",
      "source": [
        "#median\n",
        "medianAroma = st.median(data[\"Aroma\"])\n",
        "medianFlavor = st.median(data[\"Flavor\"])\n",
        "\n",
        "print(\"Median Aroma = {:.5f} \".format(medianAroma))\n",
        "print(\"Median Flavor = {:.5f} \".format(medianFlavor))"
      ],
      "metadata": {
        "colab": {
          "base_uri": "https://localhost:8080/"
        },
        "id": "-aiK4f4CgMhf",
        "outputId": "df661ec9-72e9-4ba6-f3e6-4a7a64d65aad"
      },
      "execution_count": null,
      "outputs": [
        {
          "output_type": "stream",
          "name": "stdout",
          "text": [
            "Median Aroma = 7.58000 \n",
            "Median Flavor = 7.58000 \n"
          ]
        }
      ]
    },
    {
      "cell_type": "code",
      "source": [
        "#mean\n",
        "meanAroma = data[\"Aroma\"].mean()\n",
        "meanFlavor = data[\"Flavor\"].mean()\n",
        "\n",
        "print(\"Mean Aroma = {:.5f} \".format(meanAroma))\n",
        "print(\"Mean Flavor = {:.5f} \".format(meanFlavor))"
      ],
      "metadata": {
        "colab": {
          "base_uri": "https://localhost:8080/"
        },
        "id": "EdEiK_M9hDh3",
        "outputId": "48be1d3f-d76e-4319-9117-a04e46a8c85e"
      },
      "execution_count": null,
      "outputs": [
        {
          "output_type": "stream",
          "name": "stdout",
          "text": [
            "Mean Aroma = 7.56261 \n",
            "Mean Flavor = 7.51691 \n"
          ]
        }
      ]
    },
    {
      "cell_type": "code",
      "source": [
        "#min\n",
        "minAroma = data[\"Aroma\"].min()\n",
        "minFlavor = data[\"Flavor\"].min()\n",
        "\n",
        "print(\"Min Aroma = {:.5f} \".format(minAroma))\n",
        "print(\"Min Flavor = {:.5f} \".format(minFlavor))"
      ],
      "metadata": {
        "colab": {
          "base_uri": "https://localhost:8080/"
        },
        "id": "L82OlQavlaq6",
        "outputId": "9b7c2d9a-cd7b-49bb-8a1a-eeb848fe19f0"
      },
      "execution_count": null,
      "outputs": [
        {
          "output_type": "stream",
          "name": "stdout",
          "text": [
            "Min Aroma = 0.00000 \n",
            "Min Flavor = 0.00000 \n"
          ]
        }
      ]
    },
    {
      "cell_type": "code",
      "source": [
        "#max\n",
        "maxAroma = data[\"Aroma\"].max()\n",
        "maxFlavor = data[\"Flavor\"].max()\n",
        "\n",
        "print(\"Max Aroma = {:.5f} \".format(maxAroma))\n",
        "print(\"Max Flavor = {:.5f} \".format(maxFlavor))"
      ],
      "metadata": {
        "colab": {
          "base_uri": "https://localhost:8080/"
        },
        "id": "uc92Jvc6mEMp",
        "outputId": "f8005e2e-786f-4bb1-b8ad-6ba85300ad34"
      },
      "execution_count": null,
      "outputs": [
        {
          "output_type": "stream",
          "name": "stdout",
          "text": [
            "Max Aroma = 8.75000 \n",
            "Max Flavor = 8.83000 \n"
          ]
        }
      ]
    },
    {
      "cell_type": "code",
      "source": [
        "#standard deviation\n",
        "stdAroma = data[\"Aroma\"].std()\n",
        "stdFlavor = data[\"Flavor\"].std()\n",
        "\n",
        "print(\"Standard Deviation Aroma = {:.5f} \".format(stdAroma))\n",
        "print(\"Standard Deviation Flavor = {:.5f} \".format(stdFlavor))"
      ],
      "metadata": {
        "colab": {
          "base_uri": "https://localhost:8080/"
        },
        "id": "_pgmdnaHhRv-",
        "outputId": "b4aac373-9fe9-4237-cdfb-d8bd9e6152df"
      },
      "execution_count": null,
      "outputs": [
        {
          "output_type": "stream",
          "name": "stdout",
          "text": [
            "Standard Deviation Aroma = 0.38098 \n",
            "Standard Deviation Flavor = 0.40202 \n"
          ]
        }
      ]
    },
    {
      "cell_type": "code",
      "source": [
        "#variance\n",
        "varAroma = data[\"Aroma\"].var()\n",
        "varFlavor = data[\"Flavor\"].var()\n",
        "\n",
        "print(\"Variance Deviation Aroma = {:.6f} \".format(varAroma))\n",
        "print(\"Variance Flavor = {:.6f} \".format(varFlavor))"
      ],
      "metadata": {
        "colab": {
          "base_uri": "https://localhost:8080/"
        },
        "id": "SitRNdITi95_",
        "outputId": "18e1eb35-e44d-4777-efd8-1bca3dcbf1cb"
      },
      "execution_count": null,
      "outputs": [
        {
          "output_type": "stream",
          "name": "stdout",
          "text": [
            "Variance Deviation Aroma = 0.145143 \n",
            "Variance Flavor = 0.161618 \n"
          ]
        }
      ]
    },
    {
      "cell_type": "code",
      "source": [
        "#quantile1\n",
        "q1Aroma = data[\"Aroma\"].quantile(0.25)\n",
        "q1Flavor = data[\"Flavor\"].quantile(0.25)\n",
        "\n",
        "print(\"Quantile1 Aroma = {:.6f} \".format(q1Aroma))\n",
        "print(\"Quantile1 Flavor = {:.6f} \".format(q1Flavor))"
      ],
      "metadata": {
        "colab": {
          "base_uri": "https://localhost:8080/"
        },
        "id": "7D_Mq_dCjRNH",
        "outputId": "29ae296c-9747-4164-e1a1-c7a637dc1164"
      },
      "execution_count": null,
      "outputs": [
        {
          "output_type": "stream",
          "name": "stdout",
          "text": [
            "Quantile1 Aroma = 7.420000 \n",
            "Quantile1 Flavor = 7.330000 \n"
          ]
        }
      ]
    },
    {
      "cell_type": "code",
      "source": [
        "#quantile2\n",
        "q2Aroma = data[\"Aroma\"].quantile(0.5)\n",
        "q2Flavor = data[\"Flavor\"].quantile(0.5)\n",
        "\n",
        "print(\"Quantile2 Aroma = {:.6f} \".format(q2Aroma))\n",
        "print(\"Quantile2 Flavor = {:.6f} \".format(q2Flavor))"
      ],
      "metadata": {
        "colab": {
          "base_uri": "https://localhost:8080/"
        },
        "id": "6cMBYyLUk0pA",
        "outputId": "287fbead-cd93-4e41-89ce-dd0119f1b287"
      },
      "execution_count": null,
      "outputs": [
        {
          "output_type": "stream",
          "name": "stdout",
          "text": [
            "Quantile2 Aroma = 7.580000 \n",
            "Quantile2 Flavor = 7.580000 \n"
          ]
        }
      ]
    },
    {
      "cell_type": "code",
      "source": [
        "#quantile3\n",
        "q3Aroma = data[\"Aroma\"].quantile(0.75)\n",
        "q3Flavor = data[\"Flavor\"].quantile(0.75)\n",
        "\n",
        "print(\"Quantile3 Aroma = {:.6f} \".format(q3Aroma))\n",
        "print(\"Quantile3 Flavor = {:.6f} \".format(q3Flavor))"
      ],
      "metadata": {
        "colab": {
          "base_uri": "https://localhost:8080/"
        },
        "id": "NBspcUFAk0y7",
        "outputId": "7013e1c4-2ad8-47ec-d312-c79d6d86b447"
      },
      "execution_count": null,
      "outputs": [
        {
          "output_type": "stream",
          "name": "stdout",
          "text": [
            "Quantile3 Aroma = 7.750000 \n",
            "Quantile3 Flavor = 7.750000 \n"
          ]
        }
      ]
    },
    {
      "cell_type": "code",
      "source": [
        "#describe\n",
        "describeAroma = data[\"Aroma\"].describe()\n",
        "describeFlavor = data[\"Flavor\"].describe()\n",
        "\n",
        "print(\"Describe Aroma = \",describeAroma)\n",
        "print(\"Describe Flavor = \",describeFlavor)"
      ],
      "metadata": {
        "colab": {
          "base_uri": "https://localhost:8080/"
        },
        "id": "VjSFbWZxk1M9",
        "outputId": "eec5fc33-cdc9-423c-e31c-7f1cfc490a0e"
      },
      "execution_count": null,
      "outputs": [
        {
          "output_type": "stream",
          "name": "stdout",
          "text": [
            "Describe Aroma =  count    1312.000000\n",
            "mean        7.562614\n",
            "std         0.380976\n",
            "min         0.000000\n",
            "25%         7.420000\n",
            "50%         7.580000\n",
            "75%         7.750000\n",
            "max         8.750000\n",
            "Name: Aroma, dtype: float64\n",
            "Describe Flavor =  count    1312.000000\n",
            "mean        7.516913\n",
            "std         0.402017\n",
            "min         0.000000\n",
            "25%         7.330000\n",
            "50%         7.580000\n",
            "75%         7.750000\n",
            "max         8.830000\n",
            "Name: Flavor, dtype: float64\n"
          ]
        }
      ]
    },
    {
      "cell_type": "code",
      "source": [
        "sns.boxplot(data['Aroma'])"
      ],
      "metadata": {
        "colab": {
          "base_uri": "https://localhost:8080/",
          "height": 386
        },
        "id": "ccuYSp22mGMs",
        "outputId": "b8e5a477-b4d8-4718-cee6-7a3f6117f2ab"
      },
      "execution_count": null,
      "outputs": [
        {
          "output_type": "stream",
          "name": "stderr",
          "text": [
            "/usr/local/lib/python3.7/dist-packages/seaborn/_decorators.py:43: FutureWarning:\n",
            "\n",
            "Pass the following variable as a keyword arg: x. From version 0.12, the only valid positional argument will be `data`, and passing other arguments without an explicit keyword will result in an error or misinterpretation.\n",
            "\n"
          ]
        },
        {
          "output_type": "execute_result",
          "data": {
            "text/plain": [
              "<matplotlib.axes._subplots.AxesSubplot at 0x7f4c719a1350>"
            ]
          },
          "metadata": {},
          "execution_count": 15
        },
        {
          "output_type": "display_data",
          "data": {
            "text/plain": [
              "<Figure size 432x288 with 1 Axes>"
            ],
            "image/png": "[encoded data removed]"
          },
          "metadata": {
            "needs_background": "light"
          }
        }
      ]
    },
    {
      "cell_type": "code",
      "source": [
        "sns.boxplot(data['Flavor'])"
      ],
      "metadata": {
        "colab": {
          "base_uri": "https://localhost:8080/",
          "height": 386
        },
        "id": "cWrM0-c9mX8m",
        "outputId": "ea749cc6-b906-4212-c163-ac5d7ac16ae2"
      },
      "execution_count": null,
      "outputs": [
        {
          "output_type": "stream",
          "name": "stderr",
          "text": [
            "/usr/local/lib/python3.7/dist-packages/seaborn/_decorators.py:43: FutureWarning:\n",
            "\n",
            "Pass the following variable as a keyword arg: x. From version 0.12, the only valid positional argument will be `data`, and passing other arguments without an explicit keyword will result in an error or misinterpretation.\n",
            "\n"
          ]
        },
        {
          "output_type": "execute_result",
          "data": {
            "text/plain": [
              "<matplotlib.axes._subplots.AxesSubplot at 0x7f4c70ebd150>"
            ]
          },
          "metadata": {},
          "execution_count": 16
        },
        {
          "output_type": "display_data",
          "data": {
            "text/plain": [
              "<Figure size 432x288 with 1 Axes>"
            ],
            "image/png": "[encoded data removed]"
          },
          "metadata": {
            "needs_background": "light"
          }
        }
      ]
    },
    {
      "cell_type": "code",
      "source": [
        "plt.hist(data[\"Aroma\"])\n",
        "plt.show()"
      ],
      "metadata": {
        "colab": {
          "base_uri": "https://localhost:8080/",
          "height": 265
        },
        "id": "L5JvQWRzmgz0",
        "outputId": "927e8490-fe68-44b8-87b5-53c434ab0490"
      },
      "execution_count": null,
      "outputs": [
        {
          "output_type": "display_data",
          "data": {
            "text/plain": [
              "<Figure size 432x288 with 1 Axes>"
            ],
            "image/png": "[encoded data removed]"
          },
          "metadata": {
            "needs_background": "light"
          }
        }
      ]
    },
    {
      "cell_type": "code",
      "source": [
        "plt.hist(data[\"Flavor\"])\n",
        "plt.show()"
      ],
      "metadata": {
        "colab": {
          "base_uri": "https://localhost:8080/",
          "height": 265
        },
        "id": "dLycpzcWm4rV",
        "outputId": "7a0ee572-6f42-41c8-fe13-a4074ee7a2ed"
      },
      "execution_count": null,
      "outputs": [
        {
          "output_type": "display_data",
          "data": {
            "text/plain": [
              "<Figure size 432x288 with 1 Axes>"
            ],
            "image/png": "[encoded data removed]"
          },
          "metadata": {
            "needs_background": "light"
          }
        }
      ]
    },
    {
      "cell_type": "code",
      "source": [
        "x = data[\"Aroma\"]\n",
        "y = data[\"quality_score\"]\n",
        "\n",
        "plt.scatter(x, y)\n",
        "plt.show()"
      ],
      "metadata": {
        "colab": {
          "base_uri": "https://localhost:8080/",
          "height": 265
        },
        "id": "UhSvKBufnXd8",
        "outputId": "29157c0e-ff7f-49e5-f39b-b0103b7fe759"
      },
      "execution_count": null,
      "outputs": [
        {
          "output_type": "display_data",
          "data": {
            "text/plain": [
              "<Figure size 432x288 with 1 Axes>"
            ],
            "image/png": "[encoded data removed]"
          },
          "metadata": {
            "needs_background": "light"
          }
        }
      ]
    },
    {
      "cell_type": "code",
      "source": [
        "x = data[\"Flavor\"]\n",
        "y = data[\"quality_score\"]\n",
        "\n",
        "plt.scatter(x, y)\n",
        "plt.show()"
      ],
      "metadata": {
        "colab": {
          "base_uri": "https://localhost:8080/",
          "height": 265
        },
        "id": "hk_hejxUnpbU",
        "outputId": "26552669-7e2e-4369-ada3-0ac54920e8f3"
      },
      "execution_count": null,
      "outputs": [
        {
          "output_type": "display_data",
          "data": {
            "text/plain": [
              "<Figure size 432x288 with 1 Axes>"
            ],
            "image/png": "[encoded data removed]"
          },
          "metadata": {
            "needs_background": "light"
          }
        }
      ]
    },
    {
      "cell_type": "code",
      "source": [
        "y = pd.Series(data['Aroma'])\n",
        "fig, ax = stemgraphic.stem_graphic(y)"
      ],
      "metadata": {
        "colab": {
          "base_uri": "https://localhost:8080/",
          "height": 590
        },
        "id": "92hGQtxOnvM0",
        "outputId": "b3bfdec7-d742-4dff-d769-3146904ab212"
      },
      "execution_count": null,
      "outputs": [
        {
          "output_type": "display_data",
          "data": {
            "text/plain": [
              "<Figure size 540x738 with 1 Axes>"
            ],
            "image/png": "[encoded data removed]"
          },
          "metadata": {
            "needs_background": "light"
          }
        }
      ]
    },
    {
      "cell_type": "code",
      "source": [
        "y = pd.Series(data['Flavor'])\n",
        "fig, ax = stemgraphic.stem_graphic(y)"
      ],
      "metadata": {
        "colab": {
          "base_uri": "https://localhost:8080/",
          "height": 888
        },
        "id": "-3xfuV_Spydm",
        "outputId": "189969da-347b-422c-e865-475571ff4f67"
      },
      "execution_count": null,
      "outputs": [
        {
          "output_type": "display_data",
          "data": {
            "text/plain": [
              "<Figure size 540x1152 with 1 Axes>"
            ],
            "image/png": "[encoded data removed]"
          },
          "metadata": {
            "needs_background": "light"
          }
        }
      ]
    },
    {
      "cell_type": "code",
      "source": [
        "sns.ecdfplot(data = data[\"Aroma\"])"
      ],
      "metadata": {
        "colab": {
          "base_uri": "https://localhost:8080/",
          "height": 300
        },
        "id": "aLNLYjgSqahu",
        "outputId": "f045f077-11d9-4e89-cb5a-5a45c3f1952a"
      },
      "execution_count": null,
      "outputs": [
        {
          "output_type": "execute_result",
          "data": {
            "text/plain": [
              "<matplotlib.axes._subplots.AxesSubplot at 0x7f4c70db66d0>"
            ]
          },
          "metadata": {},
          "execution_count": 24
        },
        {
          "output_type": "display_data",
          "data": {
            "text/plain": [
              "<Figure size 432x288 with 1 Axes>"
            ],
            "image/png": "[encoded data removed]"
          },
          "metadata": {
            "needs_background": "light"
          }
        }
      ]
    },
    {
      "cell_type": "code",
      "source": [
        "sns.ecdfplot(data = data[\"Flavor\"])"
      ],
      "metadata": {
        "colab": {
          "base_uri": "https://localhost:8080/",
          "height": 300
        },
        "id": "aXQwQSniq1Uk",
        "outputId": "33a42dc5-f2ad-44ee-c3f8-62e248d274b2"
      },
      "execution_count": null,
      "outputs": [
        {
          "output_type": "execute_result",
          "data": {
            "text/plain": [
              "<matplotlib.axes._subplots.AxesSubplot at 0x7f4c70ca8d10>"
            ]
          },
          "metadata": {},
          "execution_count": 25
        },
        {
          "output_type": "display_data",
          "data": {
            "text/plain": [
              "<Figure size 432x288 with 1 Axes>"
            ],
            "image/png": "[encoded data removed]"
          },
          "metadata": {
            "needs_background": "light"
          }
        }
      ]
    },
    {
      "cell_type": "code",
      "source": [
        "data[\"Aroma\"].plot.kde()"
      ],
      "metadata": {
        "colab": {
          "base_uri": "https://localhost:8080/",
          "height": 282
        },
        "id": "SyLf1ihMqvRG",
        "outputId": "02f191f2-1f29-4732-effa-220389308d9e"
      },
      "execution_count": null,
      "outputs": [
        {
          "output_type": "execute_result",
          "data": {
            "text/plain": [
              "<matplotlib.axes._subplots.AxesSubplot at 0x7f4c70bcf5d0>"
            ]
          },
          "metadata": {},
          "execution_count": 26
        },
        {
          "output_type": "display_data",
          "data": {
            "text/plain": [
              "<Figure size 432x288 with 1 Axes>"
            ],
            "image/png": "[encoded data removed]"
          },
          "metadata": {
            "needs_background": "light"
          }
        }
      ]
    },
    {
      "cell_type": "code",
      "source": [
        "data[\"Flavor\"].plot.kde()"
      ],
      "metadata": {
        "colab": {
          "base_uri": "https://localhost:8080/",
          "height": 282
        },
        "id": "mUp33apJq9JO",
        "outputId": "aa4d8b99-8b9a-4510-b591-a299b9b85bcc"
      },
      "execution_count": null,
      "outputs": [
        {
          "output_type": "execute_result",
          "data": {
            "text/plain": [
              "<matplotlib.axes._subplots.AxesSubplot at 0x7f4c70e3f150>"
            ]
          },
          "metadata": {},
          "execution_count": 27
        },
        {
          "output_type": "display_data",
          "data": {
            "text/plain": [
              "<Figure size 432x288 with 1 Axes>"
            ],
            "image/png": "[encoded data removed]"
          },
          "metadata": {
            "needs_background": "light"
          }
        }
      ]
    },
    {
      "cell_type": "code",
      "source": [
        "data=data.drop(data.index[data[\"Aroma\"]>8.245])\n",
        "data=data.drop(data.index[data[\"Aroma\"]<6.925])\n",
        "data=data.drop(data.index[data[\"Flavor\"]>8.38])\n",
        "data=data.drop(data.index[data[\"Flavor\"]<6.7])\n",
        "data=data.drop(data.index[data[\"Aroma\"]==5.08])\n",
        "data"
      ],
      "metadata": {
        "colab": {
          "base_uri": "https://localhost:8080/",
          "height": 423
        },
        "id": "wXxJeGZh-wJA",
        "outputId": "36e3d4e8-0ac8-4043-9abf-aea4e7b5b8c3"
      },
      "execution_count": null,
      "outputs": [
        {
          "output_type": "execute_result",
          "data": {
            "text/plain": [
              "      quality_score  Aroma  Flavor  Aftertaste  Acidity  Body  Balance  \\\n",
              "17            87.33   8.17    8.33        8.25     8.33  8.42     8.33   \n",
              "19            87.25   8.17    8.17        8.00     8.17  8.08     8.33   \n",
              "20            87.25   8.00    8.25        8.08     8.50  8.25     8.00   \n",
              "21            87.17   8.08    8.25        8.00     8.17  8.00     8.33   \n",
              "22            87.17   8.17    8.25        8.17     8.00  7.83     8.17   \n",
              "...             ...    ...     ...         ...      ...   ...      ...   \n",
              "1293          73.42   7.00    7.17        6.83     7.17  7.00     7.17   \n",
              "1294          72.92   7.08    7.08        6.92     7.08  6.92     6.92   \n",
              "1295          72.83   8.00    7.33        7.75     7.33  7.42     7.67   \n",
              "1302          70.67   7.00    7.00        6.83     7.00  7.33     6.83   \n",
              "1306          68.33   7.08    6.83        6.25     7.42  7.25     6.75   \n",
              "\n",
              "      Uniformity  Clean Cup  Sweetness  Moisture  Category Two Defects  \n",
              "17          9.33      10.00       9.33      0.05                     2  \n",
              "19         10.00      10.00      10.00      0.00                     8  \n",
              "20         10.00      10.00      10.00      0.00                     0  \n",
              "21         10.00      10.00      10.00      0.11                     2  \n",
              "22         10.00      10.00      10.00      0.13                     0  \n",
              "...          ...        ...        ...       ...                   ...  \n",
              "1293        8.00       8.00       8.00      0.11                    16  \n",
              "1294        8.00       8.00       8.00      0.00                     1  \n",
              "1295        6.67       6.67       6.67      0.00                    15  \n",
              "1302        6.00       6.00      10.00      0.11                    55  \n",
              "1306       10.00       0.00      10.00      0.11                    20  \n",
              "\n",
              "[1224 rows x 12 columns]"
            ],
            "text/html": [
              "\n",
              "  <div id=\"df-201c76e6-cfc9-4c21-8e63-ba02b495e822\">\n",
              "    <div class=\"colab-df-container\">\n",
              "      <div>\n",
              "<style scoped>\n",
              "    .dataframe tbody tr th:only-of-type {\n",
              "        vertical-align: middle;\n",
              "    }\n",
              "\n",
              "    .dataframe tbody tr th {\n",
              "        vertical-align: top;\n",
              "    }\n",
              "\n",
              "    .dataframe thead th {\n",
              "        text-align: right;\n",
              "    }\n",
              "</style>\n",
              "<table border=\"1\" class=\"dataframe\">\n",
              "  <thead>\n",
              "    <tr style=\"text-align: right;\">\n",
              "      <th></th>\n",
              "      <th>quality_score</th>\n",
              "      <th>Aroma</th>\n",
              "      <th>Flavor</th>\n",
              "      <th>Aftertaste</th>\n",
              "      <th>Acidity</th>\n",
              "      <th>Body</th>\n",
              "      <th>Balance</th>\n",
              "      <th>Uniformity</th>\n",
              "      <th>Clean Cup</th>\n",
              "      <th>Sweetness</th>\n",
              "      <th>Moisture</th>\n",
              "      <th>Category Two Defects</th>\n",
              "    </tr>\n",
              "  </thead>\n",
              "  <tbody>\n",
              "    <tr>\n",
              "      <th>17</th>\n",
              "      <td>87.33</td>\n",
              "      <td>8.17</td>\n",
              "      <td>8.33</td>\n",
              "      <td>8.25</td>\n",
              "      <td>8.33</td>\n",
              "      <td>8.42</td>\n",
              "      <td>8.33</td>\n",
              "      <td>9.33</td>\n",
              "      <td>10.00</td>\n",
              "      <td>9.33</td>\n",
              "      <td>0.05</td>\n",
              "      <td>2</td>\n",
              "    </tr>\n",
              "    <tr>\n",
              "      <th>19</th>\n",
              "      <td>87.25</td>\n",
              "      <td>8.17</td>\n",
              "      <td>8.17</td>\n",
              "      <td>8.00</td>\n",
              "      <td>8.17</td>\n",
              "      <td>8.08</td>\n",
              "      <td>8.33</td>\n",
              "      <td>10.00</td>\n",
              "      <td>10.00</td>\n",
              "      <td>10.00</td>\n",
              "      <td>0.00</td>\n",
              "      <td>8</td>\n",
              "    </tr>\n",
              "    <tr>\n",
              "      <th>20</th>\n",
              "      <td>87.25</td>\n",
              "      <td>8.00</td>\n",
              "      <td>8.25</td>\n",
              "      <td>8.08</td>\n",
              "      <td>8.50</td>\n",
              "      <td>8.25</td>\n",
              "      <td>8.00</td>\n",
              "      <td>10.00</td>\n",
              "      <td>10.00</td>\n",
              "      <td>10.00</td>\n",
              "      <td>0.00</td>\n",
              "      <td>0</td>\n",
              "    </tr>\n",
              "    <tr>\n",
              "      <th>21</th>\n",
              "      <td>87.17</td>\n",
              "      <td>8.08</td>\n",
              "      <td>8.25</td>\n",
              "      <td>8.00</td>\n",
              "      <td>8.17</td>\n",
              "      <td>8.00</td>\n",
              "      <td>8.33</td>\n",
              "      <td>10.00</td>\n",
              "      <td>10.00</td>\n",
              "      <td>10.00</td>\n",
              "      <td>0.11</td>\n",
              "      <td>2</td>\n",
              "    </tr>\n",
              "    <tr>\n",
              "      <th>22</th>\n",
              "      <td>87.17</td>\n",
              "      <td>8.17</td>\n",
              "      <td>8.25</td>\n",
              "      <td>8.17</td>\n",
              "      <td>8.00</td>\n",
              "      <td>7.83</td>\n",
              "      <td>8.17</td>\n",
              "      <td>10.00</td>\n",
              "      <td>10.00</td>\n",
              "      <td>10.00</td>\n",
              "      <td>0.13</td>\n",
              "      <td>0</td>\n",
              "    </tr>\n",
              "    <tr>\n",
              "      <th>...</th>\n",
              "      <td>...</td>\n",
              "      <td>...</td>\n",
              "      <td>...</td>\n",
              "      <td>...</td>\n",
              "      <td>...</td>\n",
              "      <td>...</td>\n",
              "      <td>...</td>\n",
              "      <td>...</td>\n",
              "      <td>...</td>\n",
              "      <td>...</td>\n",
              "      <td>...</td>\n",
              "      <td>...</td>\n",
              "    </tr>\n",
              "    <tr>\n",
              "      <th>1293</th>\n",
              "      <td>73.42</td>\n",
              "      <td>7.00</td>\n",
              "      <td>7.17</td>\n",
              "      <td>6.83</td>\n",
              "      <td>7.17</td>\n",
              "      <td>7.00</td>\n",
              "      <td>7.17</td>\n",
              "      <td>8.00</td>\n",
              "      <td>8.00</td>\n",
              "      <td>8.00</td>\n",
              "      <td>0.11</td>\n",
              "      <td>16</td>\n",
              "    </tr>\n",
              "    <tr>\n",
              "      <th>1294</th>\n",
              "      <td>72.92</td>\n",
              "      <td>7.08</td>\n",
              "      <td>7.08</td>\n",
              "      <td>6.92</td>\n",
              "      <td>7.08</td>\n",
              "      <td>6.92</td>\n",
              "      <td>6.92</td>\n",
              "      <td>8.00</td>\n",
              "      <td>8.00</td>\n",
              "      <td>8.00</td>\n",
              "      <td>0.00</td>\n",
              "      <td>1</td>\n",
              "    </tr>\n",
              "    <tr>\n",
              "      <th>1295</th>\n",
              "      <td>72.83</td>\n",
              "      <td>8.00</td>\n",
              "      <td>7.33</td>\n",
              "      <td>7.75</td>\n",
              "      <td>7.33</td>\n",
              "      <td>7.42</td>\n",
              "      <td>7.67</td>\n",
              "      <td>6.67</td>\n",
              "      <td>6.67</td>\n",
              "      <td>6.67</td>\n",
              "      <td>0.00</td>\n",
              "      <td>15</td>\n",
              "    </tr>\n",
              "    <tr>\n",
              "      <th>1302</th>\n",
              "      <td>70.67</td>\n",
              "      <td>7.00</td>\n",
              "      <td>7.00</td>\n",
              "      <td>6.83</td>\n",
              "      <td>7.00</td>\n",
              "      <td>7.33</td>\n",
              "      <td>6.83</td>\n",
              "      <td>6.00</td>\n",
              "      <td>6.00</td>\n",
              "      <td>10.00</td>\n",
              "      <td>0.11</td>\n",
              "      <td>55</td>\n",
              "    </tr>\n",
              "    <tr>\n",
              "      <th>1306</th>\n",
              "      <td>68.33</td>\n",
              "      <td>7.08</td>\n",
              "      <td>6.83</td>\n",
              "      <td>6.25</td>\n",
              "      <td>7.42</td>\n",
              "      <td>7.25</td>\n",
              "      <td>6.75</td>\n",
              "      <td>10.00</td>\n",
              "      <td>0.00</td>\n",
              "      <td>10.00</td>\n",
              "      <td>0.11</td>\n",
              "      <td>20</td>\n",
              "    </tr>\n",
              "  </tbody>\n",
              "</table>\n",
              "<p>1224 rows × 12 columns</p>\n",
              "</div>\n",
              "      <button class=\"colab-df-convert\" onclick=\"convertToInteractive('df-201c76e6-cfc9-4c21-8e63-ba02b495e822')\"\n",
              "              title=\"Convert this dataframe to an interactive table.\"\n",
              "              style=\"display:none;\">\n",
              "        \n",
              "  <svg xmlns=\"http://www.w3.org/2000/svg\" height=\"24px\"viewBox=\"0 0 24 24\"\n",
              "       width=\"24px\">\n",
              "    <path d=\"M0 0h24v24H0V0z\" fill=\"none\"/>\n",
              "    <path d=\"M18.56 5.44l.94 2.06.94-2.06 2.06-.94-2.06-.94-.94-2.06-.94 2.06-2.06.94zm-11 1L8.5 8.5l.94-2.06 2.06-.94-2.06-.94L8.5 2.5l-.94 2.06-2.06.94zm10 10l.94 2.06.94-2.06 2.06-.94-2.06-.94-.94-2.06-.94 2.06-2.06.94z\"/><path d=\"M17.41 7.96l-1.37-1.37c-.4-.4-.92-.59-1.43-.59-.52 0-1.04.2-1.43.59L10.3 9.45l-7.72 7.72c-.78.78-.78 2.05 0 2.83L4 21.41c.39.39.9.59 1.41.59.51 0 1.02-.2 1.41-.59l7.78-7.78 2.81-2.81c.8-.78.8-2.07 0-2.86zM5.41 20L4 18.59l7.72-7.72 1.47 1.35L5.41 20z\"/>\n",
              "  </svg>\n",
              "      </button>\n",
              "      \n",
              "  <style>\n",
              "    .colab-df-container {\n",
              "      display:flex;\n",
              "      flex-wrap:wrap;\n",
              "      gap: 12px;\n",
              "    }\n",
              "\n",
              "    .colab-df-convert {\n",
              "      background-color: #E8F0FE;\n",
              "      border: none;\n",
              "      border-radius: 50%;\n",
              "      cursor: pointer;\n",
              "      display: none;\n",
              "      fill: #1967D2;\n",
              "      height: 32px;\n",
              "      padding: 0 0 0 0;\n",
              "      width: 32px;\n",
              "    }\n",
              "\n",
              "    .colab-df-convert:hover {\n",
              "      background-color: #E2EBFA;\n",
              "      box-shadow: 0px 1px 2px rgba(60, 64, 67, 0.3), 0px 1px 3px 1px rgba(60, 64, 67, 0.15);\n",
              "      fill: #174EA6;\n",
              "    }\n",
              "\n",
              "    [theme=dark] .colab-df-convert {\n",
              "      background-color: #3B4455;\n",
              "      fill: #D2E3FC;\n",
              "    }\n",
              "\n",
              "    [theme=dark] .colab-df-convert:hover {\n",
              "      background-color: #434B5C;\n",
              "      box-shadow: 0px 1px 3px 1px rgba(0, 0, 0, 0.15);\n",
              "      filter: drop-shadow(0px 1px 2px rgba(0, 0, 0, 0.3));\n",
              "      fill: #FFFFFF;\n",
              "    }\n",
              "  </style>\n",
              "\n",
              "      <script>\n",
              "        const buttonEl =\n",
              "          document.querySelector('#df-201c76e6-cfc9-4c21-8e63-ba02b495e822 button.colab-df-convert');\n",
              "        buttonEl.style.display =\n",
              "          google.colab.kernel.accessAllowed ? 'block' : 'none';\n",
              "\n",
              "        async function convertToInteractive(key) {\n",
              "          const element = document.querySelector('#df-201c76e6-cfc9-4c21-8e63-ba02b495e822');\n",
              "          const dataTable =\n",
              "            await google.colab.kernel.invokeFunction('convertToInteractive',\n",
              "                                                     [key], {});\n",
              "          if (!dataTable) return;\n",
              "\n",
              "          const docLinkHtml = 'Like what you see? Visit the ' +\n",
              "            '<a target=\"_blank\" href=https://colab.research.google.com/notebooks/data_table.ipynb>data table notebook</a>'\n",
              "            + ' to learn more about interactive tables.';\n",
              "          element.innerHTML = '';\n",
              "          dataTable['output_type'] = 'display_data';\n",
              "          await google.colab.output.renderOutput(dataTable, element);\n",
              "          const docLink = document.createElement('div');\n",
              "          docLink.innerHTML = docLinkHtml;\n",
              "          element.appendChild(docLink);\n",
              "        }\n",
              "      </script>\n",
              "    </div>\n",
              "  </div>\n",
              "  "
            ]
          },
          "metadata": {},
          "execution_count": 28
        }
      ]
    },
    {
      "cell_type": "code",
      "source": [
        "sns.boxplot(data['Aroma'])"
      ],
      "metadata": {
        "colab": {
          "base_uri": "https://localhost:8080/",
          "height": 386
        },
        "id": "lpPvPs4g-3Kp",
        "outputId": "0f5c0b4c-c4dc-4e9d-f903-f54f320dd399"
      },
      "execution_count": null,
      "outputs": [
        {
          "output_type": "stream",
          "name": "stderr",
          "text": [
            "/usr/local/lib/python3.7/dist-packages/seaborn/_decorators.py:43: FutureWarning:\n",
            "\n",
            "Pass the following variable as a keyword arg: x. From version 0.12, the only valid positional argument will be `data`, and passing other arguments without an explicit keyword will result in an error or misinterpretation.\n",
            "\n"
          ]
        },
        {
          "output_type": "execute_result",
          "data": {
            "text/plain": [
              "<matplotlib.axes._subplots.AxesSubplot at 0x7f4c6d008410>"
            ]
          },
          "metadata": {},
          "execution_count": 29
        },
        {
          "output_type": "display_data",
          "data": {
            "text/plain": [
              "<Figure size 432x288 with 1 Axes>"
            ],
            "image/png": "[encoded data removed]"
          },
          "metadata": {
            "needs_background": "light"
          }
        }
      ]
    },
    {
      "cell_type": "code",
      "source": [
        "sns.boxplot(data['Flavor'])"
      ],
      "metadata": {
        "colab": {
          "base_uri": "https://localhost:8080/",
          "height": 386
        },
        "id": "17qwCexK--o5",
        "outputId": "badbc8f4-53a3-4a1e-88a3-1db2004f0679"
      },
      "execution_count": null,
      "outputs": [
        {
          "output_type": "stream",
          "name": "stderr",
          "text": [
            "/usr/local/lib/python3.7/dist-packages/seaborn/_decorators.py:43: FutureWarning:\n",
            "\n",
            "Pass the following variable as a keyword arg: x. From version 0.12, the only valid positional argument will be `data`, and passing other arguments without an explicit keyword will result in an error or misinterpretation.\n",
            "\n"
          ]
        },
        {
          "output_type": "execute_result",
          "data": {
            "text/plain": [
              "<matplotlib.axes._subplots.AxesSubplot at 0x7f4c6cf9c410>"
            ]
          },
          "metadata": {},
          "execution_count": 30
        },
        {
          "output_type": "display_data",
          "data": {
            "text/plain": [
              "<Figure size 432x288 with 1 Axes>"
            ],
            "image/png": "[encoded data removed]"
          },
          "metadata": {
            "needs_background": "light"
          }
        }
      ]
    },
    {
      "cell_type": "code",
      "source": [
        "plt.hist(data[\"Aroma\"])\n",
        "plt.show()"
      ],
      "metadata": {
        "colab": {
          "base_uri": "https://localhost:8080/",
          "height": 265
        },
        "id": "_g91-Xv1_DNp",
        "outputId": "90b9a39d-2b37-432d-96b5-28d2173fc748"
      },
      "execution_count": null,
      "outputs": [
        {
          "output_type": "display_data",
          "data": {
            "text/plain": [
              "<Figure size 432x288 with 1 Axes>"
            ],
            "image/png": "[encoded data removed]"
          },
          "metadata": {
            "needs_background": "light"
          }
        }
      ]
    },
    {
      "cell_type": "code",
      "source": [
        "plt.hist(data[\"Flavor\"])\n",
        "plt.show()"
      ],
      "metadata": {
        "colab": {
          "base_uri": "https://localhost:8080/",
          "height": 265
        },
        "id": "aq0tg-HS_KlI",
        "outputId": "cc54f90d-0878-4366-c4e2-597112a0609d"
      },
      "execution_count": null,
      "outputs": [
        {
          "output_type": "display_data",
          "data": {
            "text/plain": [
              "<Figure size 432x288 with 1 Axes>"
            ],
            "image/png": "[encoded data removed]"
          },
          "metadata": {
            "needs_background": "light"
          }
        }
      ]
    },
    {
      "cell_type": "code",
      "source": [
        "y = data[\"Aroma\"]\n",
        "x = data[\"quality_score\"]\n",
        "\n",
        "plt.scatter(x, y)\n",
        "plt.show()"
      ],
      "metadata": {
        "colab": {
          "base_uri": "https://localhost:8080/",
          "height": 265
        },
        "id": "aPNfzHz6_aDb",
        "outputId": "6d7295a8-76fe-4fb9-e9f2-927170046985"
      },
      "execution_count": null,
      "outputs": [
        {
          "output_type": "display_data",
          "data": {
            "text/plain": [
              "<Figure size 432x288 with 1 Axes>"
            ],
            "image/png": "[encoded data removed]"
          },
          "metadata": {
            "needs_background": "light"
          }
        }
      ]
    },
    {
      "cell_type": "code",
      "source": [
        "y = data[\"Flavor\"]\n",
        "x = data[\"quality_score\"]\n",
        "\n",
        "plt.scatter(x, y)\n",
        "plt.show()"
      ],
      "metadata": {
        "colab": {
          "base_uri": "https://localhost:8080/",
          "height": 268
        },
        "id": "vGBqa7C-_bnQ",
        "outputId": "1c56bd77-fc98-4a00-dad7-d15765b0fbb2"
      },
      "execution_count": null,
      "outputs": [
        {
          "output_type": "display_data",
          "data": {
            "text/plain": [
              "<Figure size 432x288 with 1 Axes>"
            ],
            "image/png": "[encoded data removed]"
          },
          "metadata": {
            "needs_background": "light"
          }
        }
      ]
    },
    {
      "cell_type": "code",
      "source": [
        "y = pd.Series(data['Aroma'])\n",
        "fig, ax = stemgraphic.stem_graphic(y)"
      ],
      "metadata": {
        "colab": {
          "base_uri": "https://localhost:8080/",
          "height": 421
        },
        "id": "RoxWNSQv_qI4",
        "outputId": "0d182a6d-09c6-49ec-a6a0-cb2fbfb089ba"
      },
      "execution_count": null,
      "outputs": [
        {
          "output_type": "display_data",
          "data": {
            "text/plain": [
              "<Figure size 540x576 with 1 Axes>"
            ],
            "image/png": "[encoded data removed]"
          },
          "metadata": {
            "needs_background": "light"
          }
        }
      ]
    },
    {
      "cell_type": "code",
      "source": [
        "y = pd.Series(data['Flavor'])\n",
        "fig, ax = stemgraphic.stem_graphic(y)"
      ],
      "metadata": {
        "colab": {
          "base_uri": "https://localhost:8080/",
          "height": 538
        },
        "id": "HGqqMIuA_3Ii",
        "outputId": "72f65354-c6a2-4f6e-ae6a-d0e1ed4b1297"
      },
      "execution_count": null,
      "outputs": [
        {
          "output_type": "display_data",
          "data": {
            "text/plain": [
              "<Figure size 540x756 with 1 Axes>"
            ],
            "image/png": "[encoded data removed]"
          },
          "metadata": {
            "needs_background": "light"
          }
        }
      ]
    },
    {
      "cell_type": "code",
      "source": [
        "sns.ecdfplot(data = data[\"Aroma\"])"
      ],
      "metadata": {
        "colab": {
          "base_uri": "https://localhost:8080/",
          "height": 300
        },
        "id": "LwI37wWJ_-XB",
        "outputId": "6a618fc2-7431-47f4-b708-7b0be5bf7f33"
      },
      "execution_count": null,
      "outputs": [
        {
          "output_type": "execute_result",
          "data": {
            "text/plain": [
              "<matplotlib.axes._subplots.AxesSubplot at 0x7f4c70cfca50>"
            ]
          },
          "metadata": {},
          "execution_count": 37
        },
        {
          "output_type": "display_data",
          "data": {
            "text/plain": [
              "<Figure size 432x288 with 1 Axes>"
            ],
            "image/png": "[encoded data removed]"
          },
          "metadata": {
            "needs_background": "light"
          }
        }
      ]
    },
    {
      "cell_type": "code",
      "source": [
        "sns.ecdfplot(data = data[\"Flavor\"])"
      ],
      "metadata": {
        "colab": {
          "base_uri": "https://localhost:8080/",
          "height": 300
        },
        "id": "EsO_rtiPAGsD",
        "outputId": "616bb6e4-40ba-4c63-dc58-5f059daee11d"
      },
      "execution_count": null,
      "outputs": [
        {
          "output_type": "execute_result",
          "data": {
            "text/plain": [
              "<matplotlib.axes._subplots.AxesSubplot at 0x7f4c70b0b510>"
            ]
          },
          "metadata": {},
          "execution_count": 38
        },
        {
          "output_type": "display_data",
          "data": {
            "text/plain": [
              "<Figure size 432x288 with 1 Axes>"
            ],
            "image/png": "[encoded data removed]"
          },
          "metadata": {
            "needs_background": "light"
          }
        }
      ]
    },
    {
      "cell_type": "code",
      "source": [
        "data[\"Aroma\"].plot.kde()"
      ],
      "metadata": {
        "colab": {
          "base_uri": "https://localhost:8080/",
          "height": 286
        },
        "id": "nfMiBgumAJ3L",
        "outputId": "6638af8e-9fc9-40c4-d472-00355f35bca8"
      },
      "execution_count": null,
      "outputs": [
        {
          "output_type": "execute_result",
          "data": {
            "text/plain": [
              "<matplotlib.axes._subplots.AxesSubplot at 0x7f4c6cf39250>"
            ]
          },
          "metadata": {},
          "execution_count": 39
        },
        {
          "output_type": "display_data",
          "data": {
            "text/plain": [
              "<Figure size 432x288 with 1 Axes>"
            ],
            "image/png": "[encoded data removed]"
          },
          "metadata": {
            "needs_background": "light"
          }
        }
      ]
    },
    {
      "cell_type": "code",
      "source": [
        "data[\"Flavor\"].plot.kde()"
      ],
      "metadata": {
        "colab": {
          "base_uri": "https://localhost:8080/",
          "height": 283
        },
        "id": "yPU0f-L4APlH",
        "outputId": "fcd2d5d3-7419-4466-bdb7-16a68e489464"
      },
      "execution_count": null,
      "outputs": [
        {
          "output_type": "execute_result",
          "data": {
            "text/plain": [
              "<matplotlib.axes._subplots.AxesSubplot at 0x7f4c6cd68290>"
            ]
          },
          "metadata": {},
          "execution_count": 40
        },
        {
          "output_type": "display_data",
          "data": {
            "text/plain": [
              "<Figure size 432x288 with 1 Axes>"
            ],
            "image/png": "[encoded data removed]"
          },
          "metadata": {
            "needs_background": "light"
          }
        }
      ]
    },
    {
      "cell_type": "code",
      "source": [
        "#min\n",
        "minAroma = data[\"Aroma\"].min()\n",
        "minFlavor = data[\"Flavor\"].min()\n",
        "\n",
        "print(\"Min Aroma = {:.5f} \".format(minAroma))\n",
        "print(\"Min Flavor = {:.5f} \".format(minFlavor))"
      ],
      "metadata": {
        "colab": {
          "base_uri": "https://localhost:8080/"
        },
        "id": "eEuGDgXqmljy",
        "outputId": "f77701a6-cacf-4111-c1f1-48dd585a6d5a"
      },
      "execution_count": null,
      "outputs": [
        {
          "output_type": "stream",
          "name": "stdout",
          "text": [
            "Min Aroma = 7.00000 \n",
            "Min Flavor = 6.75000 \n"
          ]
        }
      ]
    },
    {
      "cell_type": "code",
      "source": [
        "#max\n",
        "maxAroma = data[\"Aroma\"].max()\n",
        "maxFlavor = data[\"Flavor\"].max()\n",
        "\n",
        "print(\"Max Aroma = {:.5f} \".format(maxAroma))\n",
        "print(\"Max Flavor = {:.5f} \".format(maxFlavor))"
      ],
      "metadata": {
        "colab": {
          "base_uri": "https://localhost:8080/"
        },
        "id": "widVIoHNm6DL",
        "outputId": "a88298d8-f1bd-4c66-83fa-9ff0fb93e815"
      },
      "execution_count": null,
      "outputs": [
        {
          "output_type": "stream",
          "name": "stdout",
          "text": [
            "Max Aroma = 8.17000 \n",
            "Max Flavor = 8.33000 \n"
          ]
        }
      ]
    },
    {
      "cell_type": "code",
      "source": [
        "data['Aroma'].describe()"
      ],
      "metadata": {
        "colab": {
          "base_uri": "https://localhost:8080/"
        },
        "id": "-VgRw2espfwa",
        "outputId": "18d95aea-4e75-474b-d27d-c3d52c37ebec"
      },
      "execution_count": null,
      "outputs": [
        {
          "output_type": "execute_result",
          "data": {
            "text/plain": [
              "count    1224.000000\n",
              "mean        7.576332\n",
              "std         0.247461\n",
              "min         7.000000\n",
              "25%         7.420000\n",
              "50%         7.580000\n",
              "75%         7.750000\n",
              "max         8.170000\n",
              "Name: Aroma, dtype: float64"
            ]
          },
          "metadata": {},
          "execution_count": 43
        }
      ]
    },
    {
      "cell_type": "code",
      "source": [
        "data['Flavor'].describe()"
      ],
      "metadata": {
        "colab": {
          "base_uri": "https://localhost:8080/"
        },
        "id": "3MjVbojsp4ae",
        "outputId": "233d4e0e-30f2-4165-c7b7-c5dd56160fa3"
      },
      "execution_count": null,
      "outputs": [
        {
          "output_type": "execute_result",
          "data": {
            "text/plain": [
              "count    1224.000000\n",
              "mean        7.531585\n",
              "std         0.275195\n",
              "min         6.750000\n",
              "25%         7.330000\n",
              "50%         7.580000\n",
              "75%         7.750000\n",
              "max         8.330000\n",
              "Name: Flavor, dtype: float64"
            ]
          },
          "metadata": {},
          "execution_count": 44
        }
      ]
    },
    {
      "cell_type": "code",
      "source": [
        "data.describe()"
      ],
      "metadata": {
        "colab": {
          "base_uri": "https://localhost:8080/",
          "height": 300
        },
        "id": "5yf4HDXgtxfi",
        "outputId": "7f3171bd-3736-46df-9e88-322836fa6466"
      },
      "execution_count": null,
      "outputs": [
        {
          "output_type": "execute_result",
          "data": {
            "text/plain": [
              "       quality_score        Aroma       Flavor   Aftertaste      Acidity  \\\n",
              "count    1224.000000  1224.000000  1224.000000  1224.000000  1224.000000   \n",
              "mean       82.292614     7.576332     7.531585     7.412026     7.538693   \n",
              "std         2.086990     0.247461     0.275195     0.294240     0.287858   \n",
              "min        68.330000     7.000000     6.750000     6.250000     5.250000   \n",
              "25%        81.330000     7.420000     7.330000     7.250000     7.330000   \n",
              "50%        82.580000     7.580000     7.580000     7.420000     7.540000   \n",
              "75%        83.580000     7.750000     7.750000     7.580000     7.750000   \n",
              "max        87.330000     8.170000     8.330000     8.250000     8.500000   \n",
              "\n",
              "              Body      Balance   Uniformity    Clean Cup    Sweetness  \\\n",
              "count  1224.000000  1224.000000  1224.000000  1224.000000  1224.000000   \n",
              "mean      7.522949     7.530792     9.859698     9.881708     9.927998   \n",
              "std       0.267243     0.310740     0.442095     0.578992     0.350335   \n",
              "min       5.250000     6.330000     6.000000     0.000000     6.000000   \n",
              "25%       7.330000     7.330000    10.000000    10.000000    10.000000   \n",
              "50%       7.500000     7.500000    10.000000    10.000000    10.000000   \n",
              "75%       7.670000     7.750000    10.000000    10.000000    10.000000   \n",
              "max       8.420000     8.750000    10.000000    10.000000    10.000000   \n",
              "\n",
              "          Moisture  Category Two Defects  \n",
              "count  1224.000000           1224.000000  \n",
              "mean      0.089003              3.593137  \n",
              "std       0.048061              5.380637  \n",
              "min       0.000000              0.000000  \n",
              "25%       0.090000              0.000000  \n",
              "50%       0.110000              2.000000  \n",
              "75%       0.120000              4.000000  \n",
              "max       0.280000             55.000000  "
            ],
            "text/html": [
              "\n",
              "  <div id=\"df-d41018f3-2d6b-4b93-bbaf-3610dafe7985\">\n",
              "    <div class=\"colab-df-container\">\n",
              "      <div>\n",
              "<style scoped>\n",
              "    .dataframe tbody tr th:only-of-type {\n",
              "        vertical-align: middle;\n",
              "    }\n",
              "\n",
              "    .dataframe tbody tr th {\n",
              "        vertical-align: top;\n",
              "    }\n",
              "\n",
              "    .dataframe thead th {\n",
              "        text-align: right;\n",
              "    }\n",
              "</style>\n",
              "<table border=\"1\" class=\"dataframe\">\n",
              "  <thead>\n",
              "    <tr style=\"text-align: right;\">\n",
              "      <th></th>\n",
              "      <th>quality_score</th>\n",
              "      <th>Aroma</th>\n",
              "      <th>Flavor</th>\n",
              "      <th>Aftertaste</th>\n",
              "      <th>Acidity</th>\n",
              "      <th>Body</th>\n",
              "      <th>Balance</th>\n",
              "      <th>Uniformity</th>\n",
              "      <th>Clean Cup</th>\n",
              "      <th>Sweetness</th>\n",
              "      <th>Moisture</th>\n",
              "      <th>Category Two Defects</th>\n",
              "    </tr>\n",
              "  </thead>\n",
              "  <tbody>\n",
              "    <tr>\n",
              "      <th>count</th>\n",
              "      <td>1224.000000</td>\n",
              "      <td>1224.000000</td>\n",
              "      <td>1224.000000</td>\n",
              "      <td>1224.000000</td>\n",
              "      <td>1224.000000</td>\n",
              "      <td>1224.000000</td>\n",
              "      <td>1224.000000</td>\n",
              "      <td>1224.000000</td>\n",
              "      <td>1224.000000</td>\n",
              "      <td>1224.000000</td>\n",
              "      <td>1224.000000</td>\n",
              "      <td>1224.000000</td>\n",
              "    </tr>\n",
              "    <tr>\n",
              "      <th>mean</th>\n",
              "      <td>82.292614</td>\n",
              "      <td>7.576332</td>\n",
              "      <td>7.531585</td>\n",
              "      <td>7.412026</td>\n",
              "      <td>7.538693</td>\n",
              "      <td>7.522949</td>\n",
              "      <td>7.530792</td>\n",
              "      <td>9.859698</td>\n",
              "      <td>9.881708</td>\n",
              "      <td>9.927998</td>\n",
              "      <td>0.089003</td>\n",
              "      <td>3.593137</td>\n",
              "    </tr>\n",
              "    <tr>\n",
              "      <th>std</th>\n",
              "      <td>2.086990</td>\n",
              "      <td>0.247461</td>\n",
              "      <td>0.275195</td>\n",
              "      <td>0.294240</td>\n",
              "      <td>0.287858</td>\n",
              "      <td>0.267243</td>\n",
              "      <td>0.310740</td>\n",
              "      <td>0.442095</td>\n",
              "      <td>0.578992</td>\n",
              "      <td>0.350335</td>\n",
              "      <td>0.048061</td>\n",
              "      <td>5.380637</td>\n",
              "    </tr>\n",
              "    <tr>\n",
              "      <th>min</th>\n",
              "      <td>68.330000</td>\n",
              "      <td>7.000000</td>\n",
              "      <td>6.750000</td>\n",
              "      <td>6.250000</td>\n",
              "      <td>5.250000</td>\n",
              "      <td>5.250000</td>\n",
              "      <td>6.330000</td>\n",
              "      <td>6.000000</td>\n",
              "      <td>0.000000</td>\n",
              "      <td>6.000000</td>\n",
              "      <td>0.000000</td>\n",
              "      <td>0.000000</td>\n",
              "    </tr>\n",
              "    <tr>\n",
              "      <th>25%</th>\n",
              "      <td>81.330000</td>\n",
              "      <td>7.420000</td>\n",
              "      <td>7.330000</td>\n",
              "      <td>7.250000</td>\n",
              "      <td>7.330000</td>\n",
              "      <td>7.330000</td>\n",
              "      <td>7.330000</td>\n",
              "      <td>10.000000</td>\n",
              "      <td>10.000000</td>\n",
              "      <td>10.000000</td>\n",
              "      <td>0.090000</td>\n",
              "      <td>0.000000</td>\n",
              "    </tr>\n",
              "    <tr>\n",
              "      <th>50%</th>\n",
              "      <td>82.580000</td>\n",
              "      <td>7.580000</td>\n",
              "      <td>7.580000</td>\n",
              "      <td>7.420000</td>\n",
              "      <td>7.540000</td>\n",
              "      <td>7.500000</td>\n",
              "      <td>7.500000</td>\n",
              "      <td>10.000000</td>\n",
              "      <td>10.000000</td>\n",
              "      <td>10.000000</td>\n",
              "      <td>0.110000</td>\n",
              "      <td>2.000000</td>\n",
              "    </tr>\n",
              "    <tr>\n",
              "      <th>75%</th>\n",
              "      <td>83.580000</td>\n",
              "      <td>7.750000</td>\n",
              "      <td>7.750000</td>\n",
              "      <td>7.580000</td>\n",
              "      <td>7.750000</td>\n",
              "      <td>7.670000</td>\n",
              "      <td>7.750000</td>\n",
              "      <td>10.000000</td>\n",
              "      <td>10.000000</td>\n",
              "      <td>10.000000</td>\n",
              "      <td>0.120000</td>\n",
              "      <td>4.000000</td>\n",
              "    </tr>\n",
              "    <tr>\n",
              "      <th>max</th>\n",
              "      <td>87.330000</td>\n",
              "      <td>8.170000</td>\n",
              "      <td>8.330000</td>\n",
              "      <td>8.250000</td>\n",
              "      <td>8.500000</td>\n",
              "      <td>8.420000</td>\n",
              "      <td>8.750000</td>\n",
              "      <td>10.000000</td>\n",
              "      <td>10.000000</td>\n",
              "      <td>10.000000</td>\n",
              "      <td>0.280000</td>\n",
              "      <td>55.000000</td>\n",
              "    </tr>\n",
              "  </tbody>\n",
              "</table>\n",
              "</div>\n",
              "      <button class=\"colab-df-convert\" onclick=\"convertToInteractive('df-d41018f3-2d6b-4b93-bbaf-3610dafe7985')\"\n",
              "              title=\"Convert this dataframe to an interactive table.\"\n",
              "              style=\"display:none;\">\n",
              "        \n",
              "  <svg xmlns=\"http://www.w3.org/2000/svg\" height=\"24px\"viewBox=\"0 0 24 24\"\n",
              "       width=\"24px\">\n",
              "    <path d=\"M0 0h24v24H0V0z\" fill=\"none\"/>\n",
              "    <path d=\"M18.56 5.44l.94 2.06.94-2.06 2.06-.94-2.06-.94-.94-2.06-.94 2.06-2.06.94zm-11 1L8.5 8.5l.94-2.06 2.06-.94-2.06-.94L8.5 2.5l-.94 2.06-2.06.94zm10 10l.94 2.06.94-2.06 2.06-.94-2.06-.94-.94-2.06-.94 2.06-2.06.94z\"/><path d=\"M17.41 7.96l-1.37-1.37c-.4-.4-.92-.59-1.43-.59-.52 0-1.04.2-1.43.59L10.3 9.45l-7.72 7.72c-.78.78-.78 2.05 0 2.83L4 21.41c.39.39.9.59 1.41.59.51 0 1.02-.2 1.41-.59l7.78-7.78 2.81-2.81c.8-.78.8-2.07 0-2.86zM5.41 20L4 18.59l7.72-7.72 1.47 1.35L5.41 20z\"/>\n",
              "  </svg>\n",
              "      </button>\n",
              "      \n",
              "  <style>\n",
              "    .colab-df-container {\n",
              "      display:flex;\n",
              "      flex-wrap:wrap;\n",
              "      gap: 12px;\n",
              "    }\n",
              "\n",
              "    .colab-df-convert {\n",
              "      background-color: #E8F0FE;\n",
              "      border: none;\n",
              "      border-radius: 50%;\n",
              "      cursor: pointer;\n",
              "      display: none;\n",
              "      fill: #1967D2;\n",
              "      height: 32px;\n",
              "      padding: 0 0 0 0;\n",
              "      width: 32px;\n",
              "    }\n",
              "\n",
              "    .colab-df-convert:hover {\n",
              "      background-color: #E2EBFA;\n",
              "      box-shadow: 0px 1px 2px rgba(60, 64, 67, 0.3), 0px 1px 3px 1px rgba(60, 64, 67, 0.15);\n",
              "      fill: #174EA6;\n",
              "    }\n",
              "\n",
              "    [theme=dark] .colab-df-convert {\n",
              "      background-color: #3B4455;\n",
              "      fill: #D2E3FC;\n",
              "    }\n",
              "\n",
              "    [theme=dark] .colab-df-convert:hover {\n",
              "      background-color: #434B5C;\n",
              "      box-shadow: 0px 1px 3px 1px rgba(0, 0, 0, 0.15);\n",
              "      filter: drop-shadow(0px 1px 2px rgba(0, 0, 0, 0.3));\n",
              "      fill: #FFFFFF;\n",
              "    }\n",
              "  </style>\n",
              "\n",
              "      <script>\n",
              "        const buttonEl =\n",
              "          document.querySelector('#df-d41018f3-2d6b-4b93-bbaf-3610dafe7985 button.colab-df-convert');\n",
              "        buttonEl.style.display =\n",
              "          google.colab.kernel.accessAllowed ? 'block' : 'none';\n",
              "\n",
              "        async function convertToInteractive(key) {\n",
              "          const element = document.querySelector('#df-d41018f3-2d6b-4b93-bbaf-3610dafe7985');\n",
              "          const dataTable =\n",
              "            await google.colab.kernel.invokeFunction('convertToInteractive',\n",
              "                                                     [key], {});\n",
              "          if (!dataTable) return;\n",
              "\n",
              "          const docLinkHtml = 'Like what you see? Visit the ' +\n",
              "            '<a target=\"_blank\" href=https://colab.research.google.com/notebooks/data_table.ipynb>data table notebook</a>'\n",
              "            + ' to learn more about interactive tables.';\n",
              "          element.innerHTML = '';\n",
              "          dataTable['output_type'] = 'display_data';\n",
              "          await google.colab.output.renderOutput(dataTable, element);\n",
              "          const docLink = document.createElement('div');\n",
              "          docLink.innerHTML = docLinkHtml;\n",
              "          element.appendChild(docLink);\n",
              "        }\n",
              "      </script>\n",
              "    </div>\n",
              "  </div>\n",
              "  "
            ]
          },
          "metadata": {},
          "execution_count": 45
        }
      ]
    },
    {
      "cell_type": "code",
      "source": [
        "import numpy as np\n",
        "import matplotlib.pylab as plt\n",
        "import pandas as pd\n",
        "import random\n",
        "import scipy.stats as spt"
      ],
      "metadata": {
        "id": "DkHcGrXjucWj"
      },
      "execution_count": null,
      "outputs": []
    },
    {
      "cell_type": "code",
      "source": [
        "data"
      ],
      "metadata": {
        "colab": {
          "base_uri": "https://localhost:8080/",
          "height": 423
        },
        "id": "VZX-xNJhr8bE",
        "outputId": "502d6733-1d2e-480c-9246-0a9ab99b662b"
      },
      "execution_count": null,
      "outputs": [
        {
          "output_type": "execute_result",
          "data": {
            "text/plain": [
              "      quality_score  Aroma  Flavor  Aftertaste  Acidity  Body  Balance  \\\n",
              "17            87.33   8.17    8.33        8.25     8.33  8.42     8.33   \n",
              "19            87.25   8.17    8.17        8.00     8.17  8.08     8.33   \n",
              "20            87.25   8.00    8.25        8.08     8.50  8.25     8.00   \n",
              "21            87.17   8.08    8.25        8.00     8.17  8.00     8.33   \n",
              "22            87.17   8.17    8.25        8.17     8.00  7.83     8.17   \n",
              "...             ...    ...     ...         ...      ...   ...      ...   \n",
              "1293          73.42   7.00    7.17        6.83     7.17  7.00     7.17   \n",
              "1294          72.92   7.08    7.08        6.92     7.08  6.92     6.92   \n",
              "1295          72.83   8.00    7.33        7.75     7.33  7.42     7.67   \n",
              "1302          70.67   7.00    7.00        6.83     7.00  7.33     6.83   \n",
              "1306          68.33   7.08    6.83        6.25     7.42  7.25     6.75   \n",
              "\n",
              "      Uniformity  Clean Cup  Sweetness  Moisture  Category Two Defects  \n",
              "17          9.33      10.00       9.33      0.05                     2  \n",
              "19         10.00      10.00      10.00      0.00                     8  \n",
              "20         10.00      10.00      10.00      0.00                     0  \n",
              "21         10.00      10.00      10.00      0.11                     2  \n",
              "22         10.00      10.00      10.00      0.13                     0  \n",
              "...          ...        ...        ...       ...                   ...  \n",
              "1293        8.00       8.00       8.00      0.11                    16  \n",
              "1294        8.00       8.00       8.00      0.00                     1  \n",
              "1295        6.67       6.67       6.67      0.00                    15  \n",
              "1302        6.00       6.00      10.00      0.11                    55  \n",
              "1306       10.00       0.00      10.00      0.11                    20  \n",
              "\n",
              "[1224 rows x 12 columns]"
            ],
            "text/html": [
              "\n",
              "  <div id=\"df-9cbcea02-a3a2-44af-b7a6-b49d87c7fce9\">\n",
              "    <div class=\"colab-df-container\">\n",
              "      <div>\n",
              "<style scoped>\n",
              "    .dataframe tbody tr th:only-of-type {\n",
              "        vertical-align: middle;\n",
              "    }\n",
              "\n",
              "    .dataframe tbody tr th {\n",
              "        vertical-align: top;\n",
              "    }\n",
              "\n",
              "    .dataframe thead th {\n",
              "        text-align: right;\n",
              "    }\n",
              "</style>\n",
              "<table border=\"1\" class=\"dataframe\">\n",
              "  <thead>\n",
              "    <tr style=\"text-align: right;\">\n",
              "      <th></th>\n",
              "      <th>quality_score</th>\n",
              "      <th>Aroma</th>\n",
              "      <th>Flavor</th>\n",
              "      <th>Aftertaste</th>\n",
              "      <th>Acidity</th>\n",
              "      <th>Body</th>\n",
              "      <th>Balance</th>\n",
              "      <th>Uniformity</th>\n",
              "      <th>Clean Cup</th>\n",
              "      <th>Sweetness</th>\n",
              "      <th>Moisture</th>\n",
              "      <th>Category Two Defects</th>\n",
              "    </tr>\n",
              "  </thead>\n",
              "  <tbody>\n",
              "    <tr>\n",
              "      <th>17</th>\n",
              "      <td>87.33</td>\n",
              "      <td>8.17</td>\n",
              "      <td>8.33</td>\n",
              "      <td>8.25</td>\n",
              "      <td>8.33</td>\n",
              "      <td>8.42</td>\n",
              "      <td>8.33</td>\n",
              "      <td>9.33</td>\n",
              "      <td>10.00</td>\n",
              "      <td>9.33</td>\n",
              "      <td>0.05</td>\n",
              "      <td>2</td>\n",
              "    </tr>\n",
              "    <tr>\n",
              "      <th>19</th>\n",
              "      <td>87.25</td>\n",
              "      <td>8.17</td>\n",
              "      <td>8.17</td>\n",
              "      <td>8.00</td>\n",
              "      <td>8.17</td>\n",
              "      <td>8.08</td>\n",
              "      <td>8.33</td>\n",
              "      <td>10.00</td>\n",
              "      <td>10.00</td>\n",
              "      <td>10.00</td>\n",
              "      <td>0.00</td>\n",
              "      <td>8</td>\n",
              "    </tr>\n",
              "    <tr>\n",
              "      <th>20</th>\n",
              "      <td>87.25</td>\n",
              "      <td>8.00</td>\n",
              "      <td>8.25</td>\n",
              "      <td>8.08</td>\n",
              "      <td>8.50</td>\n",
              "      <td>8.25</td>\n",
              "      <td>8.00</td>\n",
              "      <td>10.00</td>\n",
              "      <td>10.00</td>\n",
              "      <td>10.00</td>\n",
              "      <td>0.00</td>\n",
              "      <td>0</td>\n",
              "    </tr>\n",
              "    <tr>\n",
              "      <th>21</th>\n",
              "      <td>87.17</td>\n",
              "      <td>8.08</td>\n",
              "      <td>8.25</td>\n",
              "      <td>8.00</td>\n",
              "      <td>8.17</td>\n",
              "      <td>8.00</td>\n",
              "      <td>8.33</td>\n",
              "      <td>10.00</td>\n",
              "      <td>10.00</td>\n",
              "      <td>10.00</td>\n",
              "      <td>0.11</td>\n",
              "      <td>2</td>\n",
              "    </tr>\n",
              "    <tr>\n",
              "      <th>22</th>\n",
              "      <td>87.17</td>\n",
              "      <td>8.17</td>\n",
              "      <td>8.25</td>\n",
              "      <td>8.17</td>\n",
              "      <td>8.00</td>\n",
              "      <td>7.83</td>\n",
              "      <td>8.17</td>\n",
              "      <td>10.00</td>\n",
              "      <td>10.00</td>\n",
              "      <td>10.00</td>\n",
              "      <td>0.13</td>\n",
              "      <td>0</td>\n",
              "    </tr>\n",
              "    <tr>\n",
              "      <th>...</th>\n",
              "      <td>...</td>\n",
              "      <td>...</td>\n",
              "      <td>...</td>\n",
              "      <td>...</td>\n",
              "      <td>...</td>\n",
              "      <td>...</td>\n",
              "      <td>...</td>\n",
              "      <td>...</td>\n",
              "      <td>...</td>\n",
              "      <td>...</td>\n",
              "      <td>...</td>\n",
              "      <td>...</td>\n",
              "    </tr>\n",
              "    <tr>\n",
              "      <th>1293</th>\n",
              "      <td>73.42</td>\n",
              "      <td>7.00</td>\n",
              "      <td>7.17</td>\n",
              "      <td>6.83</td>\n",
              "      <td>7.17</td>\n",
              "      <td>7.00</td>\n",
              "      <td>7.17</td>\n",
              "      <td>8.00</td>\n",
              "      <td>8.00</td>\n",
              "      <td>8.00</td>\n",
              "      <td>0.11</td>\n",
              "      <td>16</td>\n",
              "    </tr>\n",
              "    <tr>\n",
              "      <th>1294</th>\n",
              "      <td>72.92</td>\n",
              "      <td>7.08</td>\n",
              "      <td>7.08</td>\n",
              "      <td>6.92</td>\n",
              "      <td>7.08</td>\n",
              "      <td>6.92</td>\n",
              "      <td>6.92</td>\n",
              "      <td>8.00</td>\n",
              "      <td>8.00</td>\n",
              "      <td>8.00</td>\n",
              "      <td>0.00</td>\n",
              "      <td>1</td>\n",
              "    </tr>\n",
              "    <tr>\n",
              "      <th>1295</th>\n",
              "      <td>72.83</td>\n",
              "      <td>8.00</td>\n",
              "      <td>7.33</td>\n",
              "      <td>7.75</td>\n",
              "      <td>7.33</td>\n",
              "      <td>7.42</td>\n",
              "      <td>7.67</td>\n",
              "      <td>6.67</td>\n",
              "      <td>6.67</td>\n",
              "      <td>6.67</td>\n",
              "      <td>0.00</td>\n",
              "      <td>15</td>\n",
              "    </tr>\n",
              "    <tr>\n",
              "      <th>1302</th>\n",
              "      <td>70.67</td>\n",
              "      <td>7.00</td>\n",
              "      <td>7.00</td>\n",
              "      <td>6.83</td>\n",
              "      <td>7.00</td>\n",
              "      <td>7.33</td>\n",
              "      <td>6.83</td>\n",
              "      <td>6.00</td>\n",
              "      <td>6.00</td>\n",
              "      <td>10.00</td>\n",
              "      <td>0.11</td>\n",
              "      <td>55</td>\n",
              "    </tr>\n",
              "    <tr>\n",
              "      <th>1306</th>\n",
              "      <td>68.33</td>\n",
              "      <td>7.08</td>\n",
              "      <td>6.83</td>\n",
              "      <td>6.25</td>\n",
              "      <td>7.42</td>\n",
              "      <td>7.25</td>\n",
              "      <td>6.75</td>\n",
              "      <td>10.00</td>\n",
              "      <td>0.00</td>\n",
              "      <td>10.00</td>\n",
              "      <td>0.11</td>\n",
              "      <td>20</td>\n",
              "    </tr>\n",
              "  </tbody>\n",
              "</table>\n",
              "<p>1224 rows × 12 columns</p>\n",
              "</div>\n",
              "      <button class=\"colab-df-convert\" onclick=\"convertToInteractive('df-9cbcea02-a3a2-44af-b7a6-b49d87c7fce9')\"\n",
              "              title=\"Convert this dataframe to an interactive table.\"\n",
              "              style=\"display:none;\">\n",
              "        \n",
              "  <svg xmlns=\"http://www.w3.org/2000/svg\" height=\"24px\"viewBox=\"0 0 24 24\"\n",
              "       width=\"24px\">\n",
              "    <path d=\"M0 0h24v24H0V0z\" fill=\"none\"/>\n",
              "    <path d=\"M18.56 5.44l.94 2.06.94-2.06 2.06-.94-2.06-.94-.94-2.06-.94 2.06-2.06.94zm-11 1L8.5 8.5l.94-2.06 2.06-.94-2.06-.94L8.5 2.5l-.94 2.06-2.06.94zm10 10l.94 2.06.94-2.06 2.06-.94-2.06-.94-.94-2.06-.94 2.06-2.06.94z\"/><path d=\"M17.41 7.96l-1.37-1.37c-.4-.4-.92-.59-1.43-.59-.52 0-1.04.2-1.43.59L10.3 9.45l-7.72 7.72c-.78.78-.78 2.05 0 2.83L4 21.41c.39.39.9.59 1.41.59.51 0 1.02-.2 1.41-.59l7.78-7.78 2.81-2.81c.8-.78.8-2.07 0-2.86zM5.41 20L4 18.59l7.72-7.72 1.47 1.35L5.41 20z\"/>\n",
              "  </svg>\n",
              "      </button>\n",
              "      \n",
              "  <style>\n",
              "    .colab-df-container {\n",
              "      display:flex;\n",
              "      flex-wrap:wrap;\n",
              "      gap: 12px;\n",
              "    }\n",
              "\n",
              "    .colab-df-convert {\n",
              "      background-color: #E8F0FE;\n",
              "      border: none;\n",
              "      border-radius: 50%;\n",
              "      cursor: pointer;\n",
              "      display: none;\n",
              "      fill: #1967D2;\n",
              "      height: 32px;\n",
              "      padding: 0 0 0 0;\n",
              "      width: 32px;\n",
              "    }\n",
              "\n",
              "    .colab-df-convert:hover {\n",
              "      background-color: #E2EBFA;\n",
              "      box-shadow: 0px 1px 2px rgba(60, 64, 67, 0.3), 0px 1px 3px 1px rgba(60, 64, 67, 0.15);\n",
              "      fill: #174EA6;\n",
              "    }\n",
              "\n",
              "    [theme=dark] .colab-df-convert {\n",
              "      background-color: #3B4455;\n",
              "      fill: #D2E3FC;\n",
              "    }\n",
              "\n",
              "    [theme=dark] .colab-df-convert:hover {\n",
              "      background-color: #434B5C;\n",
              "      box-shadow: 0px 1px 3px 1px rgba(0, 0, 0, 0.15);\n",
              "      filter: drop-shadow(0px 1px 2px rgba(0, 0, 0, 0.3));\n",
              "      fill: #FFFFFF;\n",
              "    }\n",
              "  </style>\n",
              "\n",
              "      <script>\n",
              "        const buttonEl =\n",
              "          document.querySelector('#df-9cbcea02-a3a2-44af-b7a6-b49d87c7fce9 button.colab-df-convert');\n",
              "        buttonEl.style.display =\n",
              "          google.colab.kernel.accessAllowed ? 'block' : 'none';\n",
              "\n",
              "        async function convertToInteractive(key) {\n",
              "          const element = document.querySelector('#df-9cbcea02-a3a2-44af-b7a6-b49d87c7fce9');\n",
              "          const dataTable =\n",
              "            await google.colab.kernel.invokeFunction('convertToInteractive',\n",
              "                                                     [key], {});\n",
              "          if (!dataTable) return;\n",
              "\n",
              "          const docLinkHtml = 'Like what you see? Visit the ' +\n",
              "            '<a target=\"_blank\" href=https://colab.research.google.com/notebooks/data_table.ipynb>data table notebook</a>'\n",
              "            + ' to learn more about interactive tables.';\n",
              "          element.innerHTML = '';\n",
              "          dataTable['output_type'] = 'display_data';\n",
              "          await google.colab.output.renderOutput(dataTable, element);\n",
              "          const docLink = document.createElement('div');\n",
              "          docLink.innerHTML = docLinkHtml;\n",
              "          element.appendChild(docLink);\n",
              "        }\n",
              "      </script>\n",
              "    </div>\n",
              "  </div>\n",
              "  "
            ]
          },
          "metadata": {},
          "execution_count": 50
        }
      ]
    },
    {
      "cell_type": "code",
      "source": [
        "data.pop('Aftertaste')"
      ],
      "metadata": {
        "colab": {
          "base_uri": "https://localhost:8080/"
        },
        "id": "eh6mRK1Mr8mJ",
        "outputId": "e25d1240-655b-46ef-9b14-a6031c550081"
      },
      "execution_count": null,
      "outputs": [
        {
          "output_type": "execute_result",
          "data": {
            "text/plain": [
              "17      8.25\n",
              "19      8.00\n",
              "20      8.08\n",
              "21      8.00\n",
              "22      8.17\n",
              "        ... \n",
              "1293    6.83\n",
              "1294    6.92\n",
              "1295    7.75\n",
              "1302    6.83\n",
              "1306    6.25\n",
              "Name: Aftertaste, Length: 1224, dtype: float64"
            ]
          },
          "metadata": {},
          "execution_count": 51
        }
      ]
    },
    {
      "cell_type": "code",
      "source": [
        "data"
      ],
      "metadata": {
        "colab": {
          "base_uri": "https://localhost:8080/",
          "height": 423
        },
        "id": "BmHdbXPqr8pP",
        "outputId": "eb0c2044-312e-4bde-da39-ccf03b4050cd"
      },
      "execution_count": null,
      "outputs": [
        {
          "output_type": "execute_result",
          "data": {
            "text/plain": [
              "      quality_score  Aroma  Flavor  Acidity  Body  Balance  Uniformity  \\\n",
              "17            87.33   8.17    8.33     8.33  8.42     8.33        9.33   \n",
              "19            87.25   8.17    8.17     8.17  8.08     8.33       10.00   \n",
              "20            87.25   8.00    8.25     8.50  8.25     8.00       10.00   \n",
              "21            87.17   8.08    8.25     8.17  8.00     8.33       10.00   \n",
              "22            87.17   8.17    8.25     8.00  7.83     8.17       10.00   \n",
              "...             ...    ...     ...      ...   ...      ...         ...   \n",
              "1293          73.42   7.00    7.17     7.17  7.00     7.17        8.00   \n",
              "1294          72.92   7.08    7.08     7.08  6.92     6.92        8.00   \n",
              "1295          72.83   8.00    7.33     7.33  7.42     7.67        6.67   \n",
              "1302          70.67   7.00    7.00     7.00  7.33     6.83        6.00   \n",
              "1306          68.33   7.08    6.83     7.42  7.25     6.75       10.00   \n",
              "\n",
              "      Clean Cup  Sweetness  Moisture  Category Two Defects  \n",
              "17        10.00       9.33      0.05                     2  \n",
              "19        10.00      10.00      0.00                     8  \n",
              "20        10.00      10.00      0.00                     0  \n",
              "21        10.00      10.00      0.11                     2  \n",
              "22        10.00      10.00      0.13                     0  \n",
              "...         ...        ...       ...                   ...  \n",
              "1293       8.00       8.00      0.11                    16  \n",
              "1294       8.00       8.00      0.00                     1  \n",
              "1295       6.67       6.67      0.00                    15  \n",
              "1302       6.00      10.00      0.11                    55  \n",
              "1306       0.00      10.00      0.11                    20  \n",
              "\n",
              "[1224 rows x 11 columns]"
            ],
            "text/html": [
              "\n",
              "  <div id=\"df-50993dc6-1039-4d5e-be14-649aa5a119f5\">\n",
              "    <div class=\"colab-df-container\">\n",
              "      <div>\n",
              "<style scoped>\n",
              "    .dataframe tbody tr th:only-of-type {\n",
              "        vertical-align: middle;\n",
              "    }\n",
              "\n",
              "    .dataframe tbody tr th {\n",
              "        vertical-align: top;\n",
              "    }\n",
              "\n",
              "    .dataframe thead th {\n",
              "        text-align: right;\n",
              "    }\n",
              "</style>\n",
              "<table border=\"1\" class=\"dataframe\">\n",
              "  <thead>\n",
              "    <tr style=\"text-align: right;\">\n",
              "      <th></th>\n",
              "      <th>quality_score</th>\n",
              "      <th>Aroma</th>\n",
              "      <th>Flavor</th>\n",
              "      <th>Acidity</th>\n",
              "      <th>Body</th>\n",
              "      <th>Balance</th>\n",
              "      <th>Uniformity</th>\n",
              "      <th>Clean Cup</th>\n",
              "      <th>Sweetness</th>\n",
              "      <th>Moisture</th>\n",
              "      <th>Category Two Defects</th>\n",
              "    </tr>\n",
              "  </thead>\n",
              "  <tbody>\n",
              "    <tr>\n",
              "      <th>17</th>\n",
              "      <td>87.33</td>\n",
              "      <td>8.17</td>\n",
              "      <td>8.33</td>\n",
              "      <td>8.33</td>\n",
              "      <td>8.42</td>\n",
              "      <td>8.33</td>\n",
              "      <td>9.33</td>\n",
              "      <td>10.00</td>\n",
              "      <td>9.33</td>\n",
              "      <td>0.05</td>\n",
              "      <td>2</td>\n",
              "    </tr>\n",
              "    <tr>\n",
              "      <th>19</th>\n",
              "      <td>87.25</td>\n",
              "      <td>8.17</td>\n",
              "      <td>8.17</td>\n",
              "      <td>8.17</td>\n",
              "      <td>8.08</td>\n",
              "      <td>8.33</td>\n",
              "      <td>10.00</td>\n",
              "      <td>10.00</td>\n",
              "      <td>10.00</td>\n",
              "      <td>0.00</td>\n",
              "      <td>8</td>\n",
              "    </tr>\n",
              "    <tr>\n",
              "      <th>20</th>\n",
              "      <td>87.25</td>\n",
              "      <td>8.00</td>\n",
              "      <td>8.25</td>\n",
              "      <td>8.50</td>\n",
              "      <td>8.25</td>\n",
              "      <td>8.00</td>\n",
              "      <td>10.00</td>\n",
              "      <td>10.00</td>\n",
              "      <td>10.00</td>\n",
              "      <td>0.00</td>\n",
              "      <td>0</td>\n",
              "    </tr>\n",
              "    <tr>\n",
              "      <th>21</th>\n",
              "      <td>87.17</td>\n",
              "      <td>8.08</td>\n",
              "      <td>8.25</td>\n",
              "      <td>8.17</td>\n",
              "      <td>8.00</td>\n",
              "      <td>8.33</td>\n",
              "      <td>10.00</td>\n",
              "      <td>10.00</td>\n",
              "      <td>10.00</td>\n",
              "      <td>0.11</td>\n",
              "      <td>2</td>\n",
              "    </tr>\n",
              "    <tr>\n",
              "      <th>22</th>\n",
              "      <td>87.17</td>\n",
              "      <td>8.17</td>\n",
              "      <td>8.25</td>\n",
              "      <td>8.00</td>\n",
              "      <td>7.83</td>\n",
              "      <td>8.17</td>\n",
              "      <td>10.00</td>\n",
              "      <td>10.00</td>\n",
              "      <td>10.00</td>\n",
              "      <td>0.13</td>\n",
              "      <td>0</td>\n",
              "    </tr>\n",
              "    <tr>\n",
              "      <th>...</th>\n",
              "      <td>...</td>\n",
              "      <td>...</td>\n",
              "      <td>...</td>\n",
              "      <td>...</td>\n",
              "      <td>...</td>\n",
              "      <td>...</td>\n",
              "      <td>...</td>\n",
              "      <td>...</td>\n",
              "      <td>...</td>\n",
              "      <td>...</td>\n",
              "      <td>...</td>\n",
              "    </tr>\n",
              "    <tr>\n",
              "      <th>1293</th>\n",
              "      <td>73.42</td>\n",
              "      <td>7.00</td>\n",
              "      <td>7.17</td>\n",
              "      <td>7.17</td>\n",
              "      <td>7.00</td>\n",
              "      <td>7.17</td>\n",
              "      <td>8.00</td>\n",
              "      <td>8.00</td>\n",
              "      <td>8.00</td>\n",
              "      <td>0.11</td>\n",
              "      <td>16</td>\n",
              "    </tr>\n",
              "    <tr>\n",
              "      <th>1294</th>\n",
              "      <td>72.92</td>\n",
              "      <td>7.08</td>\n",
              "      <td>7.08</td>\n",
              "      <td>7.08</td>\n",
              "      <td>6.92</td>\n",
              "      <td>6.92</td>\n",
              "      <td>8.00</td>\n",
              "      <td>8.00</td>\n",
              "      <td>8.00</td>\n",
              "      <td>0.00</td>\n",
              "      <td>1</td>\n",
              "    </tr>\n",
              "    <tr>\n",
              "      <th>1295</th>\n",
              "      <td>72.83</td>\n",
              "      <td>8.00</td>\n",
              "      <td>7.33</td>\n",
              "      <td>7.33</td>\n",
              "      <td>7.42</td>\n",
              "      <td>7.67</td>\n",
              "      <td>6.67</td>\n",
              "      <td>6.67</td>\n",
              "      <td>6.67</td>\n",
              "      <td>0.00</td>\n",
              "      <td>15</td>\n",
              "    </tr>\n",
              "    <tr>\n",
              "      <th>1302</th>\n",
              "      <td>70.67</td>\n",
              "      <td>7.00</td>\n",
              "      <td>7.00</td>\n",
              "      <td>7.00</td>\n",
              "      <td>7.33</td>\n",
              "      <td>6.83</td>\n",
              "      <td>6.00</td>\n",
              "      <td>6.00</td>\n",
              "      <td>10.00</td>\n",
              "      <td>0.11</td>\n",
              "      <td>55</td>\n",
              "    </tr>\n",
              "    <tr>\n",
              "      <th>1306</th>\n",
              "      <td>68.33</td>\n",
              "      <td>7.08</td>\n",
              "      <td>6.83</td>\n",
              "      <td>7.42</td>\n",
              "      <td>7.25</td>\n",
              "      <td>6.75</td>\n",
              "      <td>10.00</td>\n",
              "      <td>0.00</td>\n",
              "      <td>10.00</td>\n",
              "      <td>0.11</td>\n",
              "      <td>20</td>\n",
              "    </tr>\n",
              "  </tbody>\n",
              "</table>\n",
              "<p>1224 rows × 11 columns</p>\n",
              "</div>\n",
              "      <button class=\"colab-df-convert\" onclick=\"convertToInteractive('df-50993dc6-1039-4d5e-be14-649aa5a119f5')\"\n",
              "              title=\"Convert this dataframe to an interactive table.\"\n",
              "              style=\"display:none;\">\n",
              "        \n",
              "  <svg xmlns=\"http://www.w3.org/2000/svg\" height=\"24px\"viewBox=\"0 0 24 24\"\n",
              "       width=\"24px\">\n",
              "    <path d=\"M0 0h24v24H0V0z\" fill=\"none\"/>\n",
              "    <path d=\"M18.56 5.44l.94 2.06.94-2.06 2.06-.94-2.06-.94-.94-2.06-.94 2.06-2.06.94zm-11 1L8.5 8.5l.94-2.06 2.06-.94-2.06-.94L8.5 2.5l-.94 2.06-2.06.94zm10 10l.94 2.06.94-2.06 2.06-.94-2.06-.94-.94-2.06-.94 2.06-2.06.94z\"/><path d=\"M17.41 7.96l-1.37-1.37c-.4-.4-.92-.59-1.43-.59-.52 0-1.04.2-1.43.59L10.3 9.45l-7.72 7.72c-.78.78-.78 2.05 0 2.83L4 21.41c.39.39.9.59 1.41.59.51 0 1.02-.2 1.41-.59l7.78-7.78 2.81-2.81c.8-.78.8-2.07 0-2.86zM5.41 20L4 18.59l7.72-7.72 1.47 1.35L5.41 20z\"/>\n",
              "  </svg>\n",
              "      </button>\n",
              "      \n",
              "  <style>\n",
              "    .colab-df-container {\n",
              "      display:flex;\n",
              "      flex-wrap:wrap;\n",
              "      gap: 12px;\n",
              "    }\n",
              "\n",
              "    .colab-df-convert {\n",
              "      background-color: #E8F0FE;\n",
              "      border: none;\n",
              "      border-radius: 50%;\n",
              "      cursor: pointer;\n",
              "      display: none;\n",
              "      fill: #1967D2;\n",
              "      height: 32px;\n",
              "      padding: 0 0 0 0;\n",
              "      width: 32px;\n",
              "    }\n",
              "\n",
              "    .colab-df-convert:hover {\n",
              "      background-color: #E2EBFA;\n",
              "      box-shadow: 0px 1px 2px rgba(60, 64, 67, 0.3), 0px 1px 3px 1px rgba(60, 64, 67, 0.15);\n",
              "      fill: #174EA6;\n",
              "    }\n",
              "\n",
              "    [theme=dark] .colab-df-convert {\n",
              "      background-color: #3B4455;\n",
              "      fill: #D2E3FC;\n",
              "    }\n",
              "\n",
              "    [theme=dark] .colab-df-convert:hover {\n",
              "      background-color: #434B5C;\n",
              "      box-shadow: 0px 1px 3px 1px rgba(0, 0, 0, 0.15);\n",
              "      filter: drop-shadow(0px 1px 2px rgba(0, 0, 0, 0.3));\n",
              "      fill: #FFFFFF;\n",
              "    }\n",
              "  </style>\n",
              "\n",
              "      <script>\n",
              "        const buttonEl =\n",
              "          document.querySelector('#df-50993dc6-1039-4d5e-be14-649aa5a119f5 button.colab-df-convert');\n",
              "        buttonEl.style.display =\n",
              "          google.colab.kernel.accessAllowed ? 'block' : 'none';\n",
              "\n",
              "        async function convertToInteractive(key) {\n",
              "          const element = document.querySelector('#df-50993dc6-1039-4d5e-be14-649aa5a119f5');\n",
              "          const dataTable =\n",
              "            await google.colab.kernel.invokeFunction('convertToInteractive',\n",
              "                                                     [key], {});\n",
              "          if (!dataTable) return;\n",
              "\n",
              "          const docLinkHtml = 'Like what you see? Visit the ' +\n",
              "            '<a target=\"_blank\" href=https://colab.research.google.com/notebooks/data_table.ipynb>data table notebook</a>'\n",
              "            + ' to learn more about interactive tables.';\n",
              "          element.innerHTML = '';\n",
              "          dataTable['output_type'] = 'display_data';\n",
              "          await google.colab.output.renderOutput(dataTable, element);\n",
              "          const docLink = document.createElement('div');\n",
              "          docLink.innerHTML = docLinkHtml;\n",
              "          element.appendChild(docLink);\n",
              "        }\n",
              "      </script>\n",
              "    </div>\n",
              "  </div>\n",
              "  "
            ]
          },
          "metadata": {},
          "execution_count": 52
        }
      ]
    },
    {
      "cell_type": "code",
      "source": [
        "data.pop('Acidity')\n",
        "data.pop('Body')\n",
        "data.pop('Balance')\n",
        "data.pop('Uniformity')"
      ],
      "metadata": {
        "colab": {
          "base_uri": "https://localhost:8080/"
        },
        "id": "nmU9aymxr8sM",
        "outputId": "004b5758-e5b4-4437-bf2b-308b667bc28d"
      },
      "execution_count": null,
      "outputs": [
        {
          "output_type": "execute_result",
          "data": {
            "text/plain": [
              "17       9.33\n",
              "19      10.00\n",
              "20      10.00\n",
              "21      10.00\n",
              "22      10.00\n",
              "        ...  \n",
              "1293     8.00\n",
              "1294     8.00\n",
              "1295     6.67\n",
              "1302     6.00\n",
              "1306    10.00\n",
              "Name: Uniformity, Length: 1224, dtype: float64"
            ]
          },
          "metadata": {},
          "execution_count": 54
        }
      ]
    },
    {
      "cell_type": "code",
      "source": [
        "data.pop('Clean Cup')\n",
        "data.pop('Sweetness')\n",
        "data.pop('Moisture')"
      ],
      "metadata": {
        "colab": {
          "base_uri": "https://localhost:8080/"
        },
        "id": "RevJq6RTr8u4",
        "outputId": "86a6a1c8-1a42-4b17-9413-862eb0f41a7e"
      },
      "execution_count": null,
      "outputs": [
        {
          "output_type": "execute_result",
          "data": {
            "text/plain": [
              "17      0.05\n",
              "19      0.00\n",
              "20      0.00\n",
              "21      0.11\n",
              "22      0.13\n",
              "        ... \n",
              "1293    0.11\n",
              "1294    0.00\n",
              "1295    0.00\n",
              "1302    0.11\n",
              "1306    0.11\n",
              "Name: Moisture, Length: 1224, dtype: float64"
            ]
          },
          "metadata": {},
          "execution_count": 55
        }
      ]
    },
    {
      "cell_type": "code",
      "source": [
        "data.pop('Category Two Defects')"
      ],
      "metadata": {
        "colab": {
          "base_uri": "https://localhost:8080/"
        },
        "id": "3qX5TiXAr8xo",
        "outputId": "41feea0a-4594-41ad-e31f-d01fba7090f3"
      },
      "execution_count": null,
      "outputs": [
        {
          "output_type": "execute_result",
          "data": {
            "text/plain": [
              "17       2\n",
              "19       8\n",
              "20       0\n",
              "21       2\n",
              "22       0\n",
              "        ..\n",
              "1293    16\n",
              "1294     1\n",
              "1295    15\n",
              "1302    55\n",
              "1306    20\n",
              "Name: Category Two Defects, Length: 1224, dtype: int64"
            ]
          },
          "metadata": {},
          "execution_count": 58
        }
      ]
    },
    {
      "cell_type": "code",
      "source": [
        "nSample = 50\n",
        "ranIndex = random.sample(list(data.index), nSample)\n",
        "# print(ranIndex)\n",
        "sample_data_aroma = data['Aroma'].get(ranIndex)\n",
        "sam_aroma_mean = sample_data_aroma.mean()\n",
        "sam_aroma_SD = sample_data_aroma.std()\n",
        "ci = [0.90,0.95,0.99]\n",
        "aroma_ci = []\n",
        "for ele in ci:\n",
        "    aroma_ci.append(list(spt.t.interval(alpha=ele, df=len(sample_data_aroma)-1, loc=np.mean(sample_data_aroma), scale=spt.sem(sample_data_aroma))))"
      ],
      "metadata": {
        "id": "7ay54uj6r80f"
      },
      "execution_count": null,
      "outputs": []
    },
    {
      "cell_type": "code",
      "source": [
        "data[\"Aroma\"].mean()"
      ],
      "metadata": {
        "colab": {
          "base_uri": "https://localhost:8080/"
        },
        "id": "uxfWWcDz_TvU",
        "outputId": "89452ad6-2a85-4c87-d6d5-cb8f807786d5"
      },
      "execution_count": null,
      "outputs": [
        {
          "output_type": "execute_result",
          "data": {
            "text/plain": [
              "7.576331699346405"
            ]
          },
          "metadata": {},
          "execution_count": 73
        }
      ]
    },
    {
      "cell_type": "code",
      "source": [
        "print(sam_aroma_mean)"
      ],
      "metadata": {
        "colab": {
          "base_uri": "https://localhost:8080/"
        },
        "id": "PP8KLdOFr82x",
        "outputId": "4ef00974-c812-4289-9e73-b2e2ead1a1f4"
      },
      "execution_count": null,
      "outputs": [
        {
          "output_type": "stream",
          "name": "stdout",
          "text": [
            "7.594599999999999\n"
          ]
        }
      ]
    },
    {
      "cell_type": "markdown",
      "source": [],
      "metadata": {
        "id": "BiiwGBzV_Fxo"
      }
    },
    {
      "cell_type": "code",
      "source": [
        "print(sam_aroma_SD)"
      ],
      "metadata": {
        "colab": {
          "base_uri": "https://localhost:8080/"
        },
        "id": "2J3Tw4Hmr85s",
        "outputId": "6c772755-2ac6-40cc-94cc-926cf2a9172c"
      },
      "execution_count": null,
      "outputs": [
        {
          "output_type": "stream",
          "name": "stdout",
          "text": [
            "0.22222630495115756\n"
          ]
        }
      ]
    },
    {
      "cell_type": "code",
      "source": [
        "data.describe()"
      ],
      "metadata": {
        "colab": {
          "base_uri": "https://localhost:8080/",
          "height": 300
        },
        "id": "sJI_QyoAvhYC",
        "outputId": "3ff3f398-c50f-459d-8043-2cd226a22cf5"
      },
      "execution_count": null,
      "outputs": [
        {
          "output_type": "execute_result",
          "data": {
            "text/plain": [
              "       quality_score        Aroma       Flavor\n",
              "count    1224.000000  1224.000000  1224.000000\n",
              "mean       82.292614     7.576332     7.531585\n",
              "std         2.086990     0.247461     0.275195\n",
              "min        68.330000     7.000000     6.750000\n",
              "25%        81.330000     7.420000     7.330000\n",
              "50%        82.580000     7.580000     7.580000\n",
              "75%        83.580000     7.750000     7.750000\n",
              "max        87.330000     8.170000     8.330000"
            ],
            "text/html": [
              "\n",
              "  <div id=\"df-f940108b-3b6a-49ac-8d48-0333c83f48b2\">\n",
              "    <div class=\"colab-df-container\">\n",
              "      <div>\n",
              "<style scoped>\n",
              "    .dataframe tbody tr th:only-of-type {\n",
              "        vertical-align: middle;\n",
              "    }\n",
              "\n",
              "    .dataframe tbody tr th {\n",
              "        vertical-align: top;\n",
              "    }\n",
              "\n",
              "    .dataframe thead th {\n",
              "        text-align: right;\n",
              "    }\n",
              "</style>\n",
              "<table border=\"1\" class=\"dataframe\">\n",
              "  <thead>\n",
              "    <tr style=\"text-align: right;\">\n",
              "      <th></th>\n",
              "      <th>quality_score</th>\n",
              "      <th>Aroma</th>\n",
              "      <th>Flavor</th>\n",
              "    </tr>\n",
              "  </thead>\n",
              "  <tbody>\n",
              "    <tr>\n",
              "      <th>count</th>\n",
              "      <td>1224.000000</td>\n",
              "      <td>1224.000000</td>\n",
              "      <td>1224.000000</td>\n",
              "    </tr>\n",
              "    <tr>\n",
              "      <th>mean</th>\n",
              "      <td>82.292614</td>\n",
              "      <td>7.576332</td>\n",
              "      <td>7.531585</td>\n",
              "    </tr>\n",
              "    <tr>\n",
              "      <th>std</th>\n",
              "      <td>2.086990</td>\n",
              "      <td>0.247461</td>\n",
              "      <td>0.275195</td>\n",
              "    </tr>\n",
              "    <tr>\n",
              "      <th>min</th>\n",
              "      <td>68.330000</td>\n",
              "      <td>7.000000</td>\n",
              "      <td>6.750000</td>\n",
              "    </tr>\n",
              "    <tr>\n",
              "      <th>25%</th>\n",
              "      <td>81.330000</td>\n",
              "      <td>7.420000</td>\n",
              "      <td>7.330000</td>\n",
              "    </tr>\n",
              "    <tr>\n",
              "      <th>50%</th>\n",
              "      <td>82.580000</td>\n",
              "      <td>7.580000</td>\n",
              "      <td>7.580000</td>\n",
              "    </tr>\n",
              "    <tr>\n",
              "      <th>75%</th>\n",
              "      <td>83.580000</td>\n",
              "      <td>7.750000</td>\n",
              "      <td>7.750000</td>\n",
              "    </tr>\n",
              "    <tr>\n",
              "      <th>max</th>\n",
              "      <td>87.330000</td>\n",
              "      <td>8.170000</td>\n",
              "      <td>8.330000</td>\n",
              "    </tr>\n",
              "  </tbody>\n",
              "</table>\n",
              "</div>\n",
              "      <button class=\"colab-df-convert\" onclick=\"convertToInteractive('df-f940108b-3b6a-49ac-8d48-0333c83f48b2')\"\n",
              "              title=\"Convert this dataframe to an interactive table.\"\n",
              "              style=\"display:none;\">\n",
              "        \n",
              "  <svg xmlns=\"http://www.w3.org/2000/svg\" height=\"24px\"viewBox=\"0 0 24 24\"\n",
              "       width=\"24px\">\n",
              "    <path d=\"M0 0h24v24H0V0z\" fill=\"none\"/>\n",
              "    <path d=\"M18.56 5.44l.94 2.06.94-2.06 2.06-.94-2.06-.94-.94-2.06-.94 2.06-2.06.94zm-11 1L8.5 8.5l.94-2.06 2.06-.94-2.06-.94L8.5 2.5l-.94 2.06-2.06.94zm10 10l.94 2.06.94-2.06 2.06-.94-2.06-.94-.94-2.06-.94 2.06-2.06.94z\"/><path d=\"M17.41 7.96l-1.37-1.37c-.4-.4-.92-.59-1.43-.59-.52 0-1.04.2-1.43.59L10.3 9.45l-7.72 7.72c-.78.78-.78 2.05 0 2.83L4 21.41c.39.39.9.59 1.41.59.51 0 1.02-.2 1.41-.59l7.78-7.78 2.81-2.81c.8-.78.8-2.07 0-2.86zM5.41 20L4 18.59l7.72-7.72 1.47 1.35L5.41 20z\"/>\n",
              "  </svg>\n",
              "      </button>\n",
              "      \n",
              "  <style>\n",
              "    .colab-df-container {\n",
              "      display:flex;\n",
              "      flex-wrap:wrap;\n",
              "      gap: 12px;\n",
              "    }\n",
              "\n",
              "    .colab-df-convert {\n",
              "      background-color: #E8F0FE;\n",
              "      border: none;\n",
              "      border-radius: 50%;\n",
              "      cursor: pointer;\n",
              "      display: none;\n",
              "      fill: #1967D2;\n",
              "      height: 32px;\n",
              "      padding: 0 0 0 0;\n",
              "      width: 32px;\n",
              "    }\n",
              "\n",
              "    .colab-df-convert:hover {\n",
              "      background-color: #E2EBFA;\n",
              "      box-shadow: 0px 1px 2px rgba(60, 64, 67, 0.3), 0px 1px 3px 1px rgba(60, 64, 67, 0.15);\n",
              "      fill: #174EA6;\n",
              "    }\n",
              "\n",
              "    [theme=dark] .colab-df-convert {\n",
              "      background-color: #3B4455;\n",
              "      fill: #D2E3FC;\n",
              "    }\n",
              "\n",
              "    [theme=dark] .colab-df-convert:hover {\n",
              "      background-color: #434B5C;\n",
              "      box-shadow: 0px 1px 3px 1px rgba(0, 0, 0, 0.15);\n",
              "      filter: drop-shadow(0px 1px 2px rgba(0, 0, 0, 0.3));\n",
              "      fill: #FFFFFF;\n",
              "    }\n",
              "  </style>\n",
              "\n",
              "      <script>\n",
              "        const buttonEl =\n",
              "          document.querySelector('#df-f940108b-3b6a-49ac-8d48-0333c83f48b2 button.colab-df-convert');\n",
              "        buttonEl.style.display =\n",
              "          google.colab.kernel.accessAllowed ? 'block' : 'none';\n",
              "\n",
              "        async function convertToInteractive(key) {\n",
              "          const element = document.querySelector('#df-f940108b-3b6a-49ac-8d48-0333c83f48b2');\n",
              "          const dataTable =\n",
              "            await google.colab.kernel.invokeFunction('convertToInteractive',\n",
              "                                                     [key], {});\n",
              "          if (!dataTable) return;\n",
              "\n",
              "          const docLinkHtml = 'Like what you see? Visit the ' +\n",
              "            '<a target=\"_blank\" href=https://colab.research.google.com/notebooks/data_table.ipynb>data table notebook</a>'\n",
              "            + ' to learn more about interactive tables.';\n",
              "          element.innerHTML = '';\n",
              "          dataTable['output_type'] = 'display_data';\n",
              "          await google.colab.output.renderOutput(dataTable, element);\n",
              "          const docLink = document.createElement('div');\n",
              "          docLink.innerHTML = docLinkHtml;\n",
              "          element.appendChild(docLink);\n",
              "        }\n",
              "      </script>\n",
              "    </div>\n",
              "  </div>\n",
              "  "
            ]
          },
          "metadata": {},
          "execution_count": 62
        }
      ]
    },
    {
      "cell_type": "code",
      "source": [
        "def confid_interv(data,nSample,ci):\n",
        "    CI = []\n",
        "    mean = []\n",
        "    for n in range(nSample):\n",
        "        ranIndex = random.sample(list(data.index), nSample)\n",
        "        sample_data = data.get(ranIndex)\n",
        "        CI.append(spt.t.interval(alpha=ci, df=len(sample_data)-1, loc=np.mean(sample_data), scale=spt.sem(sample_data)))\n",
        "        mean.append(sample_data.mean())\n",
        "    return CI, mean\n",
        "    \n",
        "sample1 = confid_interv(data.Aroma,50,0.9)\n",
        "sample2 = confid_interv(data.Aroma,50,0.95)\n",
        "sample3 = confid_interv(data.Aroma,50,0.99)"
      ],
      "metadata": {
        "id": "ovdgOHzwvhul"
      },
      "execution_count": null,
      "outputs": []
    },
    {
      "cell_type": "code",
      "source": [
        "print(aroma_ci[0])\n",
        "print(aroma_ci[1])\n",
        "print(aroma_ci[2])"
      ],
      "metadata": {
        "colab": {
          "base_uri": "https://localhost:8080/"
        },
        "id": "oXeCND8hwEDX",
        "outputId": "4f23133c-71e2-453b-95f4-5b3c941b564e"
      },
      "execution_count": null,
      "outputs": [
        {
          "output_type": "stream",
          "name": "stdout",
          "text": [
            "[7.541910120665581, 7.647289879334417]\n",
            "[7.5314439830074145, 7.657756016992583]\n",
            "[7.510375687577575, 7.678824312422423]\n"
          ]
        }
      ]
    },
    {
      "cell_type": "code",
      "source": [
        "plt.grid()\n",
        "for i in range(len(aroma_ci)):\n",
        "    plt.plot(aroma_ci[i],(ci[i],ci[i]),'b|-')\n",
        "plt.plot((7.576332,7.576332),(0.90,0.99),'r')"
      ],
      "metadata": {
        "colab": {
          "base_uri": "https://localhost:8080/",
          "height": 282
        },
        "id": "2y43ALTJwY-j",
        "outputId": "9be67321-8ce8-48b9-f4ab-dea4ceb52a88"
      },
      "execution_count": null,
      "outputs": [
        {
          "output_type": "execute_result",
          "data": {
            "text/plain": [
              "[<matplotlib.lines.Line2D at 0x7f4c7097b810>]"
            ]
          },
          "metadata": {},
          "execution_count": 65
        },
        {
          "output_type": "display_data",
          "data": {
            "text/plain": [
              "<Figure size 432x288 with 1 Axes>"
            ],
            "image/png": "[encoded data removed]"
          },
          "metadata": {
            "needs_background": "light"
          }
        }
      ]
    },
    {
      "cell_type": "code",
      "source": [
        "plt.figure(figsize=(10,10))\n",
        "for i in range(len(sample1[0])):\n",
        "    plt.plot(sample1[0][i],(i,i),'b|-')\n",
        "plt.plot((7.576332,7.576332),(0,50),'r')\n",
        "plt.grid()"
      ],
      "metadata": {
        "colab": {
          "base_uri": "https://localhost:8080/",
          "height": 592
        },
        "id": "lyBLezioxMmz",
        "outputId": "494c53f9-dcb2-4160-f8aa-972ab1f51fcd"
      },
      "execution_count": null,
      "outputs": [
        {
          "output_type": "display_data",
          "data": {
            "text/plain": [
              "<Figure size 720x720 with 1 Axes>"
            ],
            "image/png": "[encoded data removed]"
          },
          "metadata": {
            "needs_background": "light"
          }
        }
      ]
    },
    {
      "cell_type": "code",
      "source": [
        "plt.figure(figsize=(10,10))\n",
        "for i in range(len(sample2[0])):\n",
        "    plt.plot(sample2[0][i],(i,i),'b|-')\n",
        "plt.plot((7.576332,7.576332),(0,50),'r')\n",
        "plt.grid()"
      ],
      "metadata": {
        "colab": {
          "base_uri": "https://localhost:8080/",
          "height": 592
        },
        "id": "jdMjcgUjxbXH",
        "outputId": "7a3c2be2-5183-4d9e-e6af-ef3c54aa6b41"
      },
      "execution_count": null,
      "outputs": [
        {
          "output_type": "display_data",
          "data": {
            "text/plain": [
              "<Figure size 720x720 with 1 Axes>"
            ],
            "image/png": "[encoded data removed]"
          },
          "metadata": {
            "needs_background": "light"
          }
        }
      ]
    },
    {
      "cell_type": "code",
      "source": [
        "plt.figure(figsize=(10,10))\n",
        "for i in range(len(sample3[0])):\n",
        "    plt.plot(sample3[0][i],(i,i),'b|-')\n",
        "plt.plot((7.576332,7.576332),(0,50),'r')\n",
        "plt.grid()"
      ],
      "metadata": {
        "colab": {
          "base_uri": "https://localhost:8080/",
          "height": 592
        },
        "id": "JDtOdC8mxvMQ",
        "outputId": "81f5fe9f-2c59-45e7-8c3c-7abcd8c4ed5f"
      },
      "execution_count": null,
      "outputs": [
        {
          "output_type": "display_data",
          "data": {
            "text/plain": [
              "<Figure size 720x720 with 1 Axes>"
            ],
            "image/png": "[encoded data removed]"
          },
          "metadata": {
            "needs_background": "light"
          }
        }
      ]
    },
    {
      "cell_type": "code",
      "source": [
        "import numpy as np\n",
        "import matplotlib.pylab as plt\n",
        "import pandas as pd"
      ],
      "metadata": {
        "id": "oLisBbXUxvPS"
      },
      "execution_count": null,
      "outputs": []
    },
    {
      "cell_type": "code",
      "source": [
        "from sklearn.model_selection import train_test_split\n",
        "from sklearn.linear_model import LinearRegression\n",
        "X = data.iloc[: , 1].values\n",
        "y = data.iloc[: , -1].values\n",
        "X = X.reshape(len(X), 1)\n",
        "X_train, X_test, y_train, y_test = train_test_split(X, y, test_size = 0.2, random_state = 0)\n",
        "regressor = LinearRegression()\n",
        "regressor.fit(X_train, y_train)\n",
        "y_pred = regressor.predict(X_test)\n",
        "np.set_printoptions(precision=2)"
      ],
      "metadata": {
        "id": "PEnXmTFLxvR7"
      },
      "execution_count": null,
      "outputs": []
    },
    {
      "cell_type": "code",
      "source": [
        "plt.scatter(X_train, y_train , color = 'red')\n",
        "plt.plot(X_train, regressor.predict(X_train), color = 'blue')\n",
        "plt.title('Aroma (Training sets)')\n",
        "plt.show()"
      ],
      "metadata": {
        "colab": {
          "base_uri": "https://localhost:8080/",
          "height": 281
        },
        "id": "U-ZEebeOxvUo",
        "outputId": "08d0002b-5412-4692-d06b-9b4163297c07"
      },
      "execution_count": null,
      "outputs": [
        {
          "output_type": "display_data",
          "data": {
            "text/plain": [
              "<Figure size 432x288 with 1 Axes>"
            ],
            "image/png": "[encoded data removed]"
          },
          "metadata": {
            "needs_background": "light"
          }
        }
      ]
    },
    {
      "cell_type": "code",
      "source": [],
      "metadata": {
        "id": "BzmHAZmWxvW2"
      },
      "execution_count": null,
      "outputs": []
    }
  ]
}